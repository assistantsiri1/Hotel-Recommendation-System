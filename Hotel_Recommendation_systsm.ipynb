{
  "nbformat": 4,
  "nbformat_minor": 0,
  "metadata": {
    "colab": {
      "provenance": []
    },
    "kernelspec": {
      "name": "python3",
      "display_name": "Python 3"
    },
    "language_info": {
      "name": "python"
    }
  },
  "cells": [
    {
      "cell_type": "code",
      "execution_count": 1,
      "metadata": {
        "id": "DIa6HY3Rn9g4"
      },
      "outputs": [],
      "source": [
        "import pandas as pd\n",
        "import numpy as np"
      ]
    },
    {
      "cell_type": "code",
      "source": [
        "pip install opendatasets"
      ],
      "metadata": {
        "colab": {
          "base_uri": "https://localhost:8080/"
        },
        "id": "3jktYxzooC6z",
        "outputId": "fa358358-277c-4dfd-ace8-0268808b3860"
      },
      "execution_count": 2,
      "outputs": [
        {
          "output_type": "stream",
          "name": "stdout",
          "text": [
            "Collecting opendatasets\n",
            "  Downloading opendatasets-0.1.22-py3-none-any.whl.metadata (9.2 kB)\n",
            "Requirement already satisfied: tqdm in /usr/local/lib/python3.10/dist-packages (from opendatasets) (4.66.6)\n",
            "Requirement already satisfied: kaggle in /usr/local/lib/python3.10/dist-packages (from opendatasets) (1.6.17)\n",
            "Requirement already satisfied: click in /usr/local/lib/python3.10/dist-packages (from opendatasets) (8.1.7)\n",
            "Requirement already satisfied: six>=1.10 in /usr/local/lib/python3.10/dist-packages (from kaggle->opendatasets) (1.17.0)\n",
            "Requirement already satisfied: certifi>=2023.7.22 in /usr/local/lib/python3.10/dist-packages (from kaggle->opendatasets) (2024.8.30)\n",
            "Requirement already satisfied: python-dateutil in /usr/local/lib/python3.10/dist-packages (from kaggle->opendatasets) (2.8.2)\n",
            "Requirement already satisfied: requests in /usr/local/lib/python3.10/dist-packages (from kaggle->opendatasets) (2.32.3)\n",
            "Requirement already satisfied: python-slugify in /usr/local/lib/python3.10/dist-packages (from kaggle->opendatasets) (8.0.4)\n",
            "Requirement already satisfied: urllib3 in /usr/local/lib/python3.10/dist-packages (from kaggle->opendatasets) (2.2.3)\n",
            "Requirement already satisfied: bleach in /usr/local/lib/python3.10/dist-packages (from kaggle->opendatasets) (6.2.0)\n",
            "Requirement already satisfied: webencodings in /usr/local/lib/python3.10/dist-packages (from bleach->kaggle->opendatasets) (0.5.1)\n",
            "Requirement already satisfied: text-unidecode>=1.3 in /usr/local/lib/python3.10/dist-packages (from python-slugify->kaggle->opendatasets) (1.3)\n",
            "Requirement already satisfied: charset-normalizer<4,>=2 in /usr/local/lib/python3.10/dist-packages (from requests->kaggle->opendatasets) (3.4.0)\n",
            "Requirement already satisfied: idna<4,>=2.5 in /usr/local/lib/python3.10/dist-packages (from requests->kaggle->opendatasets) (3.10)\n",
            "Downloading opendatasets-0.1.22-py3-none-any.whl (15 kB)\n",
            "Installing collected packages: opendatasets\n",
            "Successfully installed opendatasets-0.1.22\n"
          ]
        }
      ]
    },
    {
      "cell_type": "code",
      "source": [
        "import opendatasets as od\n",
        "import pandas\n",
        "\n",
        "od.download\n",
        "    \"https://www.kaggle.com/datasets/rajeshrampure/zomato-dataset\")"
      ],
      "metadata": {
        "colab": {
          "base_uri": "https://localhost:8080/"
        },
        "id": "OBaEmIGVpWzi",
        "outputId": "77dfcf82-926e-4306-d142-42690d5ab61e"
      },
      "execution_count": 3,
      "outputs": [
        {
          "output_type": "stream",
          "name": "stdout",
          "text": [
            "Please provide your Kaggle credentials to download this dataset. Learn more: http://bit.ly/kaggle-creds\n",
            "Your Kaggle username: sohamrandive\n",
            "Your Kaggle Key: ··········\n",
            "Dataset URL: https://www.kaggle.com/datasets/rajeshrampure/zomato-dataset\n",
            "Downloading zomato-dataset.zip to ./zomato-dataset\n"
          ]
        },
        {
          "output_type": "stream",
          "name": "stderr",
          "text": [
            "100%|██████████| 89.0M/89.0M [00:01<00:00, 83.7MB/s]\n"
          ]
        },
        {
          "output_type": "stream",
          "name": "stdout",
          "text": [
            "\n"
          ]
        }
      ]
    },
    {
      "cell_type": "code",
      "source": [
        "import pandas as pd"
      ],
      "metadata": {
        "id": "5Ar63Ww07b9S"
      },
      "execution_count": 5,
      "outputs": []
    },
    {
      "cell_type": "code",
      "source": [
        "main_df=pd.read_csv(\"/content/zomato-dataset/zomato.csv\")"
      ],
      "metadata": {
        "id": "RnlLSNOa6woL"
      },
      "execution_count": 7,
      "outputs": []
    },
    {
      "cell_type": "code",
      "source": [
        "df1=main_df.head(20000)"
      ],
      "metadata": {
        "id": "CBnQzYnM7YcL"
      },
      "execution_count": 8,
      "outputs": []
    },
    {
      "cell_type": "code",
      "source": [
        "df1.shape"
      ],
      "metadata": {
        "colab": {
          "base_uri": "https://localhost:8080/"
        },
        "id": "khbAz2KW7-6e",
        "outputId": "674d909a-6c45-4501-b828-c70c3ecb8bf3"
      },
      "execution_count": 9,
      "outputs": [
        {
          "output_type": "execute_result",
          "data": {
            "text/plain": [
              "(20000, 17)"
            ]
          },
          "metadata": {},
          "execution_count": 9
        }
      ]
    },
    {
      "cell_type": "code",
      "source": [
        "df1 = df1.rename(columns={'listed_in(type)': 'type'})\n",
        "df1 = df1.rename(columns={'listed_in(city)': 'city'})"
      ],
      "metadata": {
        "id": "mDKpeBAU8Bat"
      },
      "execution_count": 10,
      "outputs": []
    },
    {
      "cell_type": "code",
      "source": [
        "df1 = df1.rename(columns={'approx_cost(for two people)': 'cost'})\n",
        "df1.dropna(how='any', inplace=True)\n",
        "df1['cost']=df1['cost'].astype(str)\n",
        "df1['cost']=df1['cost'].apply(lambda x: x.replace(',',''))\n",
        "df1['cost']=df1['cost'].astype(float)"
      ],
      "metadata": {
        "id": "IDsAip_V8D59"
      },
      "execution_count": 11,
      "outputs": []
    },
    {
      "cell_type": "code",
      "source": [
        "df1.shape"
      ],
      "metadata": {
        "colab": {
          "base_uri": "https://localhost:8080/"
        },
        "id": "1zt-WQX-8G5t",
        "outputId": "5337b3bd-1b30-46a4-d5b0-c02d7473b4ba"
      },
      "execution_count": 12,
      "outputs": [
        {
          "output_type": "execute_result",
          "data": {
            "text/plain": [
              "(8971, 17)"
            ]
          },
          "metadata": {},
          "execution_count": 12
        }
      ]
    },
    {
      "cell_type": "code",
      "source": [
        "df1=df1[df1.rate!='NEW']\n",
        "df1=df1[df1.rate!='-'].reset_index(drop=True)\n",
        "remove_slash=lambda x: x.replace('/5','')if type(x)==str else x\n",
        "df1.rate=df1.rate.apply(remove_slash).str.strip().astype('float')"
      ],
      "metadata": {
        "id": "wDhDdi-R8JZq"
      },
      "execution_count": 13,
      "outputs": []
    },
    {
      "cell_type": "code",
      "source": [
        "df1.name = df1.name.apply(lambda x:x.title())\n",
        "df1.online_order.replace(('Yes','No'),(True, False),inplace=True)\n",
        "df1.book_table.replace(('Yes','No'),(True, False),inplace=True)"
      ],
      "metadata": {
        "colab": {
          "base_uri": "https://localhost:8080/"
        },
        "id": "OTgF4aCv8MS8",
        "outputId": "c1d12cb5-e9fd-4e4d-e9bc-88485a0cbbfe"
      },
      "execution_count": 14,
      "outputs": [
        {
          "output_type": "stream",
          "name": "stderr",
          "text": [
            "<ipython-input-14-0e5fd276b03f>:2: FutureWarning: A value is trying to be set on a copy of a DataFrame or Series through chained assignment using an inplace method.\n",
            "The behavior will change in pandas 3.0. This inplace method will never work because the intermediate object on which we are setting values always behaves as a copy.\n",
            "\n",
            "For example, when doing 'df[col].method(value, inplace=True)', try using 'df.method({col: value}, inplace=True)' or df[col] = df[col].method(value) instead, to perform the operation inplace on the original object.\n",
            "\n",
            "\n",
            "  df1.online_order.replace(('Yes','No'),(True, False),inplace=True)\n",
            "<ipython-input-14-0e5fd276b03f>:2: FutureWarning: Downcasting behavior in `replace` is deprecated and will be removed in a future version. To retain the old behavior, explicitly call `result.infer_objects(copy=False)`. To opt-in to the future behavior, set `pd.set_option('future.no_silent_downcasting', True)`\n",
            "  df1.online_order.replace(('Yes','No'),(True, False),inplace=True)\n",
            "<ipython-input-14-0e5fd276b03f>:3: FutureWarning: A value is trying to be set on a copy of a DataFrame or Series through chained assignment using an inplace method.\n",
            "The behavior will change in pandas 3.0. This inplace method will never work because the intermediate object on which we are setting values always behaves as a copy.\n",
            "\n",
            "For example, when doing 'df[col].method(value, inplace=True)', try using 'df.method({col: value}, inplace=True)' or df[col] = df[col].method(value) instead, to perform the operation inplace on the original object.\n",
            "\n",
            "\n",
            "  df1.book_table.replace(('Yes','No'),(True, False),inplace=True)\n",
            "<ipython-input-14-0e5fd276b03f>:3: FutureWarning: Downcasting behavior in `replace` is deprecated and will be removed in a future version. To retain the old behavior, explicitly call `result.infer_objects(copy=False)`. To opt-in to the future behavior, set `pd.set_option('future.no_silent_downcasting', True)`\n",
            "  df1.book_table.replace(('Yes','No'),(True, False),inplace=True)\n"
          ]
        }
      ]
    },
    {
      "cell_type": "code",
      "source": [
        "rest_co = df1['name'].nunique()\n",
        "rest_co"
      ],
      "metadata": {
        "colab": {
          "base_uri": "https://localhost:8080/"
        },
        "id": "FIKF14w38Pv6",
        "outputId": "991bb17d-0fc2-4b0e-d7f8-acfe691d605b"
      },
      "execution_count": 15,
      "outputs": [
        {
          "output_type": "execute_result",
          "data": {
            "text/plain": [
              "2431"
            ]
          },
          "metadata": {},
          "execution_count": 15
        }
      ]
    },
    {
      "cell_type": "code",
      "source": [
        "df1['Mean Rating'] = 0"
      ],
      "metadata": {
        "id": "J7sPBM318Zp1"
      },
      "execution_count": 16,
      "outputs": []
    },
    {
      "cell_type": "code",
      "source": [
        "resturants = list(df1['name'].unique())"
      ],
      "metadata": {
        "id": "YwTwDQOt8gQN"
      },
      "execution_count": 17,
      "outputs": []
    },
    {
      "cell_type": "code",
      "source": [
        "!pip install textblob\n",
        "from textblob import TextBlob\n",
        "import re\n",
        "!pip install nltk\n",
        "import nltk\n",
        "from nltk.corpus import stopwords\n",
        "nltk.download('stopwords')\n"
      ],
      "metadata": {
        "colab": {
          "base_uri": "https://localhost:8080/"
        },
        "id": "aiFRSDZc8ibR",
        "outputId": "ef8ebc99-6c5c-4e4d-e6e5-8e433e312b86"
      },
      "execution_count": 18,
      "outputs": [
        {
          "output_type": "stream",
          "name": "stdout",
          "text": [
            "Requirement already satisfied: textblob in /usr/local/lib/python3.10/dist-packages (0.17.1)\n",
            "Requirement already satisfied: nltk>=3.1 in /usr/local/lib/python3.10/dist-packages (from textblob) (3.9.1)\n",
            "Requirement already satisfied: click in /usr/local/lib/python3.10/dist-packages (from nltk>=3.1->textblob) (8.1.7)\n",
            "Requirement already satisfied: joblib in /usr/local/lib/python3.10/dist-packages (from nltk>=3.1->textblob) (1.4.2)\n",
            "Requirement already satisfied: regex>=2021.8.3 in /usr/local/lib/python3.10/dist-packages (from nltk>=3.1->textblob) (2024.9.11)\n",
            "Requirement already satisfied: tqdm in /usr/local/lib/python3.10/dist-packages (from nltk>=3.1->textblob) (4.66.6)\n",
            "Requirement already satisfied: nltk in /usr/local/lib/python3.10/dist-packages (3.9.1)\n",
            "Requirement already satisfied: click in /usr/local/lib/python3.10/dist-packages (from nltk) (8.1.7)\n",
            "Requirement already satisfied: joblib in /usr/local/lib/python3.10/dist-packages (from nltk) (1.4.2)\n",
            "Requirement already satisfied: regex>=2021.8.3 in /usr/local/lib/python3.10/dist-packages (from nltk) (2024.9.11)\n",
            "Requirement already satisfied: tqdm in /usr/local/lib/python3.10/dist-packages (from nltk) (4.66.6)\n"
          ]
        },
        {
          "output_type": "stream",
          "name": "stderr",
          "text": [
            "[nltk_data] Downloading package stopwords to /root/nltk_data...\n",
            "[nltk_data]   Unzipping corpora/stopwords.zip.\n"
          ]
        },
        {
          "output_type": "execute_result",
          "data": {
            "text/plain": [
              "True"
            ]
          },
          "metadata": {},
          "execution_count": 18
        }
      ]
    },
    {
      "cell_type": "code",
      "source": [
        "from nltk.tokenize import word_tokenize"
      ],
      "metadata": {
        "id": "7bP2ME5S8mvb"
      },
      "execution_count": 19,
      "outputs": []
    },
    {
      "cell_type": "code",
      "source": [
        "df1['reviews_list'] = df1['reviews_list'].str.lower()"
      ],
      "metadata": {
        "id": "sl2fYvid8uHE"
      },
      "execution_count": 20,
      "outputs": []
    },
    {
      "cell_type": "code",
      "source": [
        "STOPWORD = set(stopwords.words('english'))\n",
        "def remove_stopwords(text):\n",
        "    return ' '.join([word for word in str(text).split() if word not in STOPWORD])"
      ],
      "metadata": {
        "id": "tZUy5RwT8xMS"
      },
      "execution_count": 21,
      "outputs": []
    },
    {
      "cell_type": "code",
      "source": [
        "df1['reviews_list'] = df1['reviews_list'].apply(lambda text: remove_stopwords(text))"
      ],
      "metadata": {
        "id": "ms3cvysT80-q"
      },
      "execution_count": 22,
      "outputs": []
    },
    {
      "cell_type": "code",
      "source": [
        "def remove_urls(text):\n",
        "    url_pattern = re.compile(r'https?://\\S+|www\\.\\S+')\n",
        "    return url_pattern.sub(r'', text)"
      ],
      "metadata": {
        "id": "RMQmLi4B83sW"
      },
      "execution_count": 23,
      "outputs": []
    },
    {
      "cell_type": "code",
      "source": [
        "df1['reviews_list'] = df1['reviews_list'].apply(lambda text: remove_urls(text))"
      ],
      "metadata": {
        "id": "bMiX4TGi87TA"
      },
      "execution_count": 24,
      "outputs": []
    },
    {
      "cell_type": "code",
      "source": [
        "import re"
      ],
      "metadata": {
        "id": "tmqZyE_M89oO"
      },
      "execution_count": 25,
      "outputs": []
    },
    {
      "cell_type": "code",
      "source": [
        "df1[['reviews_list', 'cuisines']].sample(10)"
      ],
      "metadata": {
        "colab": {
          "base_uri": "https://localhost:8080/",
          "height": 363
        },
        "id": "arcMlDIU8_9p",
        "outputId": "eeb9a98b-7579-434c-fc58-521612e359c9"
      },
      "execution_count": 26,
      "outputs": [
        {
          "output_type": "execute_result",
          "data": {
            "text/plain": [
              "                                           reviews_list  \\\n",
              "5215  [('rated 4.0', 'rated\\n authentic veggie punja...   \n",
              "2320  [('rated 4.0', 'rated\\n quite times. first tim...   \n",
              "7098  [('rated 5.0', 'rated\\n staff polite warm. pla...   \n",
              "847   [('rated 3.0', 'rated\\n bit old restaurant nee...   \n",
              "1727  [('rated 4.0', 'rated\\n iã\\x83ã\\x83ã\\x82ã\\...   \n",
              "138   [('rated 5.0', \"rated\\n idly-chutney joint ban...   \n",
              "8143  [('rated 4.0', 'rated\\n go food hub. cleanline...   \n",
              "5453  [('rated 5.0', 'rated\\n breakfast group frnds ...   \n",
              "5714  [('rated 5.0', 'rated\\n ordered poha,bun omlet...   \n",
              "7019  [('rated 1.0', \"rated\\n went tapout tavern fri...   \n",
              "\n",
              "                                               cuisines  \n",
              "5215                                       North Indian  \n",
              "2320                         North Indian, Chinese, BBQ  \n",
              "7098                                       North Indian  \n",
              "847                  North Indian, Continental, Chinese  \n",
              "1727                       North Indian, Chinese, Rolls  \n",
              "138                                        South Indian  \n",
              "8143                 North Indian, Street Food, Chinese  \n",
              "5453  American, North Indian, Chinese, Finger Food, ...  \n",
              "5714                          Tea, Beverages, Fast Food  \n",
              "7019  American, Asian, Continental, North Indian, So...  "
            ],
            "text/html": [
              "\n",
              "  <div id=\"df-6a93f91d-d2db-42d8-b22f-443de4373a2e\" class=\"colab-df-container\">\n",
              "    <div>\n",
              "<style scoped>\n",
              "    .dataframe tbody tr th:only-of-type {\n",
              "        vertical-align: middle;\n",
              "    }\n",
              "\n",
              "    .dataframe tbody tr th {\n",
              "        vertical-align: top;\n",
              "    }\n",
              "\n",
              "    .dataframe thead th {\n",
              "        text-align: right;\n",
              "    }\n",
              "</style>\n",
              "<table border=\"1\" class=\"dataframe\">\n",
              "  <thead>\n",
              "    <tr style=\"text-align: right;\">\n",
              "      <th></th>\n",
              "      <th>reviews_list</th>\n",
              "      <th>cuisines</th>\n",
              "    </tr>\n",
              "  </thead>\n",
              "  <tbody>\n",
              "    <tr>\n",
              "      <th>5215</th>\n",
              "      <td>[('rated 4.0', 'rated\\n authentic veggie punja...</td>\n",
              "      <td>North Indian</td>\n",
              "    </tr>\n",
              "    <tr>\n",
              "      <th>2320</th>\n",
              "      <td>[('rated 4.0', 'rated\\n quite times. first tim...</td>\n",
              "      <td>North Indian, Chinese, BBQ</td>\n",
              "    </tr>\n",
              "    <tr>\n",
              "      <th>7098</th>\n",
              "      <td>[('rated 5.0', 'rated\\n staff polite warm. pla...</td>\n",
              "      <td>North Indian</td>\n",
              "    </tr>\n",
              "    <tr>\n",
              "      <th>847</th>\n",
              "      <td>[('rated 3.0', 'rated\\n bit old restaurant nee...</td>\n",
              "      <td>North Indian, Continental, Chinese</td>\n",
              "    </tr>\n",
              "    <tr>\n",
              "      <th>1727</th>\n",
              "      <td>[('rated 4.0', 'rated\\n iã\\x83ã\\x83ã\\x82ã\\...</td>\n",
              "      <td>North Indian, Chinese, Rolls</td>\n",
              "    </tr>\n",
              "    <tr>\n",
              "      <th>138</th>\n",
              "      <td>[('rated 5.0', \"rated\\n idly-chutney joint ban...</td>\n",
              "      <td>South Indian</td>\n",
              "    </tr>\n",
              "    <tr>\n",
              "      <th>8143</th>\n",
              "      <td>[('rated 4.0', 'rated\\n go food hub. cleanline...</td>\n",
              "      <td>North Indian, Street Food, Chinese</td>\n",
              "    </tr>\n",
              "    <tr>\n",
              "      <th>5453</th>\n",
              "      <td>[('rated 5.0', 'rated\\n breakfast group frnds ...</td>\n",
              "      <td>American, North Indian, Chinese, Finger Food, ...</td>\n",
              "    </tr>\n",
              "    <tr>\n",
              "      <th>5714</th>\n",
              "      <td>[('rated 5.0', 'rated\\n ordered poha,bun omlet...</td>\n",
              "      <td>Tea, Beverages, Fast Food</td>\n",
              "    </tr>\n",
              "    <tr>\n",
              "      <th>7019</th>\n",
              "      <td>[('rated 1.0', \"rated\\n went tapout tavern fri...</td>\n",
              "      <td>American, Asian, Continental, North Indian, So...</td>\n",
              "    </tr>\n",
              "  </tbody>\n",
              "</table>\n",
              "</div>\n",
              "    <div class=\"colab-df-buttons\">\n",
              "\n",
              "  <div class=\"colab-df-container\">\n",
              "    <button class=\"colab-df-convert\" onclick=\"convertToInteractive('df-6a93f91d-d2db-42d8-b22f-443de4373a2e')\"\n",
              "            title=\"Convert this dataframe to an interactive table.\"\n",
              "            style=\"display:none;\">\n",
              "\n",
              "  <svg xmlns=\"http://www.w3.org/2000/svg\" height=\"24px\" viewBox=\"0 -960 960 960\">\n",
              "    <path d=\"M120-120v-720h720v720H120Zm60-500h600v-160H180v160Zm220 220h160v-160H400v160Zm0 220h160v-160H400v160ZM180-400h160v-160H180v160Zm440 0h160v-160H620v160ZM180-180h160v-160H180v160Zm440 0h160v-160H620v160Z\"/>\n",
              "  </svg>\n",
              "    </button>\n",
              "\n",
              "  <style>\n",
              "    .colab-df-container {\n",
              "      display:flex;\n",
              "      gap: 12px;\n",
              "    }\n",
              "\n",
              "    .colab-df-convert {\n",
              "      background-color: #E8F0FE;\n",
              "      border: none;\n",
              "      border-radius: 50%;\n",
              "      cursor: pointer;\n",
              "      display: none;\n",
              "      fill: #1967D2;\n",
              "      height: 32px;\n",
              "      padding: 0 0 0 0;\n",
              "      width: 32px;\n",
              "    }\n",
              "\n",
              "    .colab-df-convert:hover {\n",
              "      background-color: #E2EBFA;\n",
              "      box-shadow: 0px 1px 2px rgba(60, 64, 67, 0.3), 0px 1px 3px 1px rgba(60, 64, 67, 0.15);\n",
              "      fill: #174EA6;\n",
              "    }\n",
              "\n",
              "    .colab-df-buttons div {\n",
              "      margin-bottom: 4px;\n",
              "    }\n",
              "\n",
              "    [theme=dark] .colab-df-convert {\n",
              "      background-color: #3B4455;\n",
              "      fill: #D2E3FC;\n",
              "    }\n",
              "\n",
              "    [theme=dark] .colab-df-convert:hover {\n",
              "      background-color: #434B5C;\n",
              "      box-shadow: 0px 1px 3px 1px rgba(0, 0, 0, 0.15);\n",
              "      filter: drop-shadow(0px 1px 2px rgba(0, 0, 0, 0.3));\n",
              "      fill: #FFFFFF;\n",
              "    }\n",
              "  </style>\n",
              "\n",
              "    <script>\n",
              "      const buttonEl =\n",
              "        document.querySelector('#df-6a93f91d-d2db-42d8-b22f-443de4373a2e button.colab-df-convert');\n",
              "      buttonEl.style.display =\n",
              "        google.colab.kernel.accessAllowed ? 'block' : 'none';\n",
              "\n",
              "      async function convertToInteractive(key) {\n",
              "        const element = document.querySelector('#df-6a93f91d-d2db-42d8-b22f-443de4373a2e');\n",
              "        const dataTable =\n",
              "          await google.colab.kernel.invokeFunction('convertToInteractive',\n",
              "                                                    [key], {});\n",
              "        if (!dataTable) return;\n",
              "\n",
              "        const docLinkHtml = 'Like what you see? Visit the ' +\n",
              "          '<a target=\"_blank\" href=https://colab.research.google.com/notebooks/data_table.ipynb>data table notebook</a>'\n",
              "          + ' to learn more about interactive tables.';\n",
              "        element.innerHTML = '';\n",
              "        dataTable['output_type'] = 'display_data';\n",
              "        await google.colab.output.renderOutput(dataTable, element);\n",
              "        const docLink = document.createElement('div');\n",
              "        docLink.innerHTML = docLinkHtml;\n",
              "        element.appendChild(docLink);\n",
              "      }\n",
              "    </script>\n",
              "  </div>\n",
              "\n",
              "\n",
              "<div id=\"df-5a44e228-0e3b-4632-9746-aa9662e7acef\">\n",
              "  <button class=\"colab-df-quickchart\" onclick=\"quickchart('df-5a44e228-0e3b-4632-9746-aa9662e7acef')\"\n",
              "            title=\"Suggest charts\"\n",
              "            style=\"display:none;\">\n",
              "\n",
              "<svg xmlns=\"http://www.w3.org/2000/svg\" height=\"24px\"viewBox=\"0 0 24 24\"\n",
              "     width=\"24px\">\n",
              "    <g>\n",
              "        <path d=\"M19 3H5c-1.1 0-2 .9-2 2v14c0 1.1.9 2 2 2h14c1.1 0 2-.9 2-2V5c0-1.1-.9-2-2-2zM9 17H7v-7h2v7zm4 0h-2V7h2v10zm4 0h-2v-4h2v4z\"/>\n",
              "    </g>\n",
              "</svg>\n",
              "  </button>\n",
              "\n",
              "<style>\n",
              "  .colab-df-quickchart {\n",
              "      --bg-color: #E8F0FE;\n",
              "      --fill-color: #1967D2;\n",
              "      --hover-bg-color: #E2EBFA;\n",
              "      --hover-fill-color: #174EA6;\n",
              "      --disabled-fill-color: #AAA;\n",
              "      --disabled-bg-color: #DDD;\n",
              "  }\n",
              "\n",
              "  [theme=dark] .colab-df-quickchart {\n",
              "      --bg-color: #3B4455;\n",
              "      --fill-color: #D2E3FC;\n",
              "      --hover-bg-color: #434B5C;\n",
              "      --hover-fill-color: #FFFFFF;\n",
              "      --disabled-bg-color: #3B4455;\n",
              "      --disabled-fill-color: #666;\n",
              "  }\n",
              "\n",
              "  .colab-df-quickchart {\n",
              "    background-color: var(--bg-color);\n",
              "    border: none;\n",
              "    border-radius: 50%;\n",
              "    cursor: pointer;\n",
              "    display: none;\n",
              "    fill: var(--fill-color);\n",
              "    height: 32px;\n",
              "    padding: 0;\n",
              "    width: 32px;\n",
              "  }\n",
              "\n",
              "  .colab-df-quickchart:hover {\n",
              "    background-color: var(--hover-bg-color);\n",
              "    box-shadow: 0 1px 2px rgba(60, 64, 67, 0.3), 0 1px 3px 1px rgba(60, 64, 67, 0.15);\n",
              "    fill: var(--button-hover-fill-color);\n",
              "  }\n",
              "\n",
              "  .colab-df-quickchart-complete:disabled,\n",
              "  .colab-df-quickchart-complete:disabled:hover {\n",
              "    background-color: var(--disabled-bg-color);\n",
              "    fill: var(--disabled-fill-color);\n",
              "    box-shadow: none;\n",
              "  }\n",
              "\n",
              "  .colab-df-spinner {\n",
              "    border: 2px solid var(--fill-color);\n",
              "    border-color: transparent;\n",
              "    border-bottom-color: var(--fill-color);\n",
              "    animation:\n",
              "      spin 1s steps(1) infinite;\n",
              "  }\n",
              "\n",
              "  @keyframes spin {\n",
              "    0% {\n",
              "      border-color: transparent;\n",
              "      border-bottom-color: var(--fill-color);\n",
              "      border-left-color: var(--fill-color);\n",
              "    }\n",
              "    20% {\n",
              "      border-color: transparent;\n",
              "      border-left-color: var(--fill-color);\n",
              "      border-top-color: var(--fill-color);\n",
              "    }\n",
              "    30% {\n",
              "      border-color: transparent;\n",
              "      border-left-color: var(--fill-color);\n",
              "      border-top-color: var(--fill-color);\n",
              "      border-right-color: var(--fill-color);\n",
              "    }\n",
              "    40% {\n",
              "      border-color: transparent;\n",
              "      border-right-color: var(--fill-color);\n",
              "      border-top-color: var(--fill-color);\n",
              "    }\n",
              "    60% {\n",
              "      border-color: transparent;\n",
              "      border-right-color: var(--fill-color);\n",
              "    }\n",
              "    80% {\n",
              "      border-color: transparent;\n",
              "      border-right-color: var(--fill-color);\n",
              "      border-bottom-color: var(--fill-color);\n",
              "    }\n",
              "    90% {\n",
              "      border-color: transparent;\n",
              "      border-bottom-color: var(--fill-color);\n",
              "    }\n",
              "  }\n",
              "</style>\n",
              "\n",
              "  <script>\n",
              "    async function quickchart(key) {\n",
              "      const quickchartButtonEl =\n",
              "        document.querySelector('#' + key + ' button');\n",
              "      quickchartButtonEl.disabled = true;  // To prevent multiple clicks.\n",
              "      quickchartButtonEl.classList.add('colab-df-spinner');\n",
              "      try {\n",
              "        const charts = await google.colab.kernel.invokeFunction(\n",
              "            'suggestCharts', [key], {});\n",
              "      } catch (error) {\n",
              "        console.error('Error during call to suggestCharts:', error);\n",
              "      }\n",
              "      quickchartButtonEl.classList.remove('colab-df-spinner');\n",
              "      quickchartButtonEl.classList.add('colab-df-quickchart-complete');\n",
              "    }\n",
              "    (() => {\n",
              "      let quickchartButtonEl =\n",
              "        document.querySelector('#df-5a44e228-0e3b-4632-9746-aa9662e7acef button');\n",
              "      quickchartButtonEl.style.display =\n",
              "        google.colab.kernel.accessAllowed ? 'block' : 'none';\n",
              "    })();\n",
              "  </script>\n",
              "</div>\n",
              "\n",
              "    </div>\n",
              "  </div>\n"
            ],
            "application/vnd.google.colaboratory.intrinsic+json": {
              "type": "dataframe",
              "summary": "{\n  \"name\": \"df1[['reviews_list', 'cuisines']]\",\n  \"rows\": 10,\n  \"fields\": [\n    {\n      \"column\": \"reviews_list\",\n      \"properties\": {\n        \"dtype\": \"string\",\n        \"num_unique_values\": 10,\n        \"samples\": [\n          \"[('rated 5.0', 'rated\\\\n ordered poha,bun omlette,veg cutlet ginger tea.\\\\nthe poha reminded home!! quantity ample,and pure bliss this!!\\\\nthe cutlets really tasty although work upon size.\\\\nthe bun omlette good too\\\\nthe best part ginger tea. absolutely love ginger tea place. packaging amazing unlike coffee houses wrap cup gross cellotape there\\u00e3\\u0083\\\\x83\\u00e3\\u0082\\\\x83\\u00e3\\u0083\\\\x82\\u00e3\\u0082\\\\x82\\u00e3\\u0083\\\\x83\\u00e3\\u0082\\\\x82\\u00e3\\u0083\\\\x82\\u00e3\\u0082\\\\x92s alot spill.\\\\nthe uniflask looks supercute totally spill proof!!\\\\nwould love keep ordering fromt place breakfast n ????'), ('rated 1.0', 'rated\\\\n low hygiene- found dead rat carpet front shop. inside shop maintained well either.\\\\noverpriced tea snacks. pay 50rs maska bun 60rs tea place like this?')]\",\n          \"[('rated 4.0', 'rated\\\\n quite times. first time writing review. good place enjoy delicious food. courteous staff. delicious food. ambience ok. value money. draw back crowded weekends.'), ('rated 4.0', 'rated\\\\n good experience. detailing here:\\\\nfood:5/5\\\\nbuffet spread quite huge. lot variety pick from. tastes good well.\\\\nservice:4/5\\\\nbuffet self service. things well taken care of\\\\nambience:2/5\\\\nnot great one. looks like marriage party buffet without decoration\\\\nparking:4/5\\\\nthey valet parking. although road front construction going on\\\\ncost:4/5\\\\npretty much value money\\\\n\\\\noverall, worth trying least.'), ('rated 3.0', 'rated\\\\n hi ,\\\\n\\\\nwe visited place colleagues,\\\\nwe ordered buffet.\\\\nfirst soup served later took buffet.\\\\nthere many starts including chats main course desert options good overall\\\\nambience 3.5/5\\\\nfood 3.7/5\\\\nservice 3.8/5\\\\ncleanliness 3.4/5'), ('rated 4.0', \\\"rated\\\\n visited place team lunch...during weekdays.\\\\n\\\\n?? heard alot place , expectations food good.\\\\nin starters really liked chat counter. buffets, hardly one two chat options there...but there's like one dedicated counter. talking desserts , loved chocolate fondue ... dip marshmallows !!\\\\n\\\\none thing felt missing mocktails...as part buffet.?\\\\n\\\\n??service good here, staff members courteous, value money ???.ambience wise , place looks good , little less spacious.\\\"), ('rated 2.0', 'rated\\\\n two service provided staff dined restaurant. food would along family consensus mediocre defeats purpose restaurant. waiter arjun good served us well. biryani horrible, chicken average worth money. arjun given feedback came back sure ask making service great food really needs look up.'), ('rated 4.0', 'rated\\\\n went crowded! perhaps booking table recommended. food delicious filled fullest. love variety starters. wish could tried everything. mannyyyy!!'), ('rated 4.0', 'rated\\\\n buffet spread huge. food amazing too. perfect place cooperate team lunches. would recommend visit again!'), ('rated 3.0', 'rated\\\\n thing enjoyed chats, fresh n tasty ....\\\\ninteriors worked , frozen fish & prawns used, work quality food interiors make better place .\\\\nbut make moments would rate 5* organise birthday cakes there\\u00e3\\u0083\\\\x83\\u00e3\\u0082\\\\x83\\u00e3\\u0083\\\\x82\\u00e3\\u0082\\\\x82\\u00e3\\u0083\\\\x83\\u00e3\\u0082\\\\x82\\u00e3\\u0083\\\\x82\\u00e3\\u0082\\\\x92s birthday, make feel special .'), ('rated 4.0', 'rated\\\\n wide range dishes offered buffet.. dishes offered really good.. specially starters. loved buffet worth every penny. chutneys main reason happened go there..'), ('rated 4.0', \\\"rated\\\\n kind place! buffet something never miss ! variety chinese delicacies variety deserts make visit place again.\\\\n\\\\nbest chinese buffet town! like really really try food there! one biggest buffets ever everything scrumptious.\\\\n\\\\nchutney chang, place look forward think buffet. located ashok nagar stone throw distance mg road offers best food get buffet. lavish buffet mixture vegetarian non vegetarian food. chaat section well tandoor section main attractions. main course typical fillling type find usual buffets. seating stairs well stairs, looking group twenty plus ask upstairs seating scenic view bamboo shoots greenery.\\\\n\\\\nmomo's chutneys must try...\\\"), ('rated 3.0', 'rated\\\\n thing enjoyed chats, fresh n tasty ....\\\\ninteriors worked , frozen fish & prawns used, work quality food interiors make better place .\\\\nbut make moments would rate 5* organise birthday cakes there\\u00e3\\u0083\\\\x83\\u00e3\\u0082\\\\x83\\u00e3\\u0083\\\\x82\\u00e3\\u0082\\\\x82\\u00e3\\u0083\\\\x83\\u00e3\\u0082\\\\x82\\u00e3\\u0083\\\\x82\\u00e3\\u0082\\\\x92s birthday, make feel special .'), ('rated 4.0', 'rated\\\\n wide range dishes offered buffet.. dishes offered really good.. specially starters. loved buffet worth every penny. chutneys main reason happened go there..'), ('rated 4.0', \\\"rated\\\\n kind place! buffet something never miss ! variety chinese delicacies variety deserts make visit place again.\\\\n\\\\nbest chinese buffet town! like really really try food there! one biggest buffets ever everything scrumptious.\\\\n\\\\nchutney chang, place look forward think buffet. located ashok nagar stone throw distance mg road offers best food get buffet. lavish buffet mixture vegetarian non vegetarian food. chaat section well tandoor section main attractions. main course typical fillling type find usual buffets. seating stairs well stairs, looking group twenty plus ask upstairs seating scenic view bamboo shoots greenery.\\\\n\\\\nmomo's chutneys must try...\\\"), ('rated 3.0', 'rated\\\\n thing enjoyed chats, fresh n tasty ....\\\\ninteriors worked , frozen fish & prawns used, work quality food interiors make better place .\\\\nbut make moments would rate 5* organise birthday cakes there\\u00e3\\u0083\\\\x83\\u00e3\\u0082\\\\x83\\u00e3\\u0083\\\\x82\\u00e3\\u0082\\\\x82\\u00e3\\u0083\\\\x83\\u00e3\\u0082\\\\x82\\u00e3\\u0083\\\\x82\\u00e3\\u0082\\\\x92s birthday, make feel special .'), ('rated 4.0', 'rated\\\\n wide range dishes offered buffet.. dishes offered really good.. specially starters. loved buffet worth every penny. chutneys main reason happened go there..'), ('rated 4.0', \\\"rated\\\\n kind place! buffet something never miss ! variety chinese delicacies variety deserts make visit place again.\\\\n\\\\nbest chinese buffet town! like really really try food there! one biggest buffets ever everything scrumptious.\\\\n\\\\nchutney chang, place look forward think buffet. located ashok nagar stone throw distance mg road offers best food get buffet. lavish buffet mixture vegetarian non vegetarian food. chaat section well tandoor section main attractions. main course typical fillling type find usual buffets. seating stairs well stairs, looking group twenty plus ask upstairs seating scenic view bamboo shoots greenery.\\\\n\\\\nmomo's chutneys must try...\\\"), ('rated 3.0', 'rated\\\\n thing enjoyed chats, fresh n tasty ....\\\\ninteriors worked , frozen fish & prawns used, work quality food interiors make better place .\\\\nbut make moments would rate 5* organise birthday cakes there\\u00e3\\u0083\\\\x83\\u00e3\\u0082\\\\x83\\u00e3\\u0083\\\\x82\\u00e3\\u0082\\\\x82\\u00e3\\u0083\\\\x83\\u00e3\\u0082\\\\x82\\u00e3\\u0083\\\\x82\\u00e3\\u0082\\\\x92s birthday, make feel special .'), ('rated 4.0', 'rated\\\\n wide range dishes offered buffet.. dishes offered really good.. specially starters. loved buffet worth every penny. chutneys main reason happened go there..'), ('rated 4.0', \\\"rated\\\\n kind place! buffet something never miss ! variety chinese delicacies variety deserts make visit place again.\\\\n\\\\nbest chinese buffet town! like really really try food there! one biggest buffets ever everything scrumptious.\\\\n\\\\nchutney chang, place look forward think buffet. located ashok nagar stone throw distance mg road offers best food get buffet. lavish buffet mixture vegetarian non vegetarian food. chaat section well tandoor section main attractions. main course typical fillling type find usual buffets. seating stairs well stairs, looking group twenty plus ask upstairs seating scenic view bamboo shoots greenery.\\\\n\\\\nmomo's chutneys must try...\\\"), ('rated 4.0', \\\"rated\\\\n judge book cover. great looking place outside really awesome chinese indian food. great service overall good experience buffet place.\\\\n\\\\nfood- 4/5\\\\npresentation- 3.5/5\\\\nmusic- none\\\\nhygiene- 4/5\\\\noverall- 4/5\\\\n\\\\nmy experience- went tuesday team lunch. really great service customised orders took time prepared. great variety veg non veg food. dishes tasted amazing (special mention dal makhani chicken biryani). sections segregated well i.e. grills, chaats, dessert, main course customised orders. must visit big time foodie.\\\\ncheers!! keep hogging!!\\\"), ('rated 5.0', \\\"rated\\\\n well place something family visits whenever shopping mg road, big place terms space accommodate adhic basis 5 minutes waiting.\\\\nthe ambience quite good bright staff polite.\\\\nthe food good put siple words north indian wedding buffet.\\\"), ('rated 4.0', 'rated\\\\n perfect corporate buffet place!!\\\\nchoice food one pet full food here!!?\\\\n\\\\nbrilliant ambience! number tables! desserts plus point! veg non veg food chinese touch!! try type food taking spoon spoon taste more!?\\\\n\\\\n2 types noodles! 3 types greavy! 2types rice! 4 types non veg veg including fish starters! 5 types salads desserts! even barbeque tooo!!?\\\\n\\\\nis left anything? think not!\\\\nso one want variety food visit here!!? price wil bit expensive compared buffet places! friendly servers comfortable seating beautiful interiors!?\\\\n\\\\noverall 4/5!! ?'), ('rated 3.0', 'rated\\\\n wide spread average taste.\\\\n\\\\nthe ambience place average. gave feel place getting older less maintained. decorative lights dust them. management needs look upkeep place.\\\\n\\\\nnow coming food. amazes wide spread buffet. wide variety choose every course meal. chat counter, live tawa counter, live grill counter, wide spread main course wide spread sweet dishes too!\\\\n\\\\nwhat enjoyed paneer roll. roll completely made paneer. subzi tikki another delicacy enjoyed. lastly liked jalebi rabri.\\\\n\\\\nthe side effect wide range menu loss focus taste quality. grill counter disaster. last thing expect get cold paneer grill. even main course things really upto mark. overall would say average taste.'), ('rated 3.0', 'rated\\\\n said longest buffet bangalore...was true non veg stattion less compares veg...taste overall decent mark....and alcohol bummer.....')]\",\n          \"[('rated 5.0', \\\"rated\\\\n idly-chutney joint bangalore, started 2to3 years back, good hygienic food available here, tasty, place many options really good reasonable\\\\n\\\\nmust try place\\\"), ('rated 5.0', 'rated\\\\n place absolute worth visit! dishes amazing! limited menu options taste makes up! vada chutney yum also give shavige bath try! always stay list favorite breakfast places!??'), ('rated 4.0', 'rated\\\\n best place breakfast basavanagudi, authentic brahmin style food without use garlic onions, idli vada best.'), ('rated 4.0', 'rated\\\\n n.r.colony\\u00e3\\u0083\\\\x83\\u00e3\\u0082\\\\x83\\u00e3\\u0083\\\\x82\\u00e3\\u0082\\\\x82\\u00e3\\u0083\\\\x83\\u00e3\\u0082\\\\x82\\u00e3\\u0083\\\\x82\\u00e3\\u0082\\\\x92s brahmin coffee bar inspired eatery. right next bus stand easy locate, definitely cannot miss crowd place.\\\\n\\\\nambience \\u00e3\\u0083\\\\x83\\u00e3\\u0082\\\\x83\\u00e3\\u0083\\\\x82\\u00e3\\u0082\\\\x82\\u00e3\\u0083\\\\x83\\u00e3\\u0082\\\\x82\\u00e3\\u0083\\\\x82\\u00e3\\u0082\\\\x96 even though small place maintained well, hygienic. place sit tables keep hot plates eat.\\\\n\\\\nservice \\u00e3\\u0083\\\\x83\\u00e3\\u0082\\\\x83\\u00e3\\u0083\\\\x82\\u00e3\\u0082\\\\x82\\u00e3\\u0083\\\\x83\\u00e3\\u0082\\\\x82\\u00e3\\u0083\\\\x82\\u00e3\\u0082\\\\x96 proper queue counter task place order. however crowded gets food delayed.\\\\n\\\\nfood \\u00e3\\u0083\\\\x83\\u00e3\\u0082\\\\x83\\u00e3\\u0083\\\\x82\\u00e3\\u0082\\\\x82\\u00e3\\u0083\\\\x83\\u00e3\\u0082\\\\x82\\u00e3\\u0083\\\\x82\\u00e3\\u0082\\\\x96 menu similar brahmin coffee bar additions like avalakki (flattened rice) navane(millet) bath.\\\\n\\\\ni tried idly vade, kharabath avalakki. every dish served chutney, don\\u00e3\\u0083\\\\x83\\u00e3\\u0082\\\\x83\\u00e3\\u0083\\\\x82\\u00e3\\u0082\\\\x82\\u00e3\\u0083\\\\x83\\u00e3\\u0082\\\\x82\\u00e3\\u0083\\\\x82\\u00e3\\u0082\\\\x92t get sambar here.\\\\n\\\\nall dishes really good idly vada must have!'), ('rated 4.0', 'rated\\\\n yet another old-school, old bangalore type breakfast joint basavangudi. obviously didn\\u00e3\\u0083\\\\x83\\u00e3\\u0082\\\\x83\\u00e3\\u0083\\\\x82\\u00e3\\u0082\\\\x82\\u00e3\\u0083\\\\x83\\u00e3\\u0082\\\\x82\\u00e3\\u0083\\\\x82\\u00e3\\u0082\\\\x92t disappoint.\\\\ntried usual:\\\\nkhara bhath, idli vada, kesari & coffee.'), ('rated 4.0', \\\"rated\\\\n 4.5/5: place may legendary status yet, relatively new, surely going give hotels basavanagudi run money. crowd swarming around food court makes wanna dive right eat food. i've twice, stumped crispy dosas yummy chutney, filter coffee. filter coffee rarity bangalore places missed. one them. another important thing importance hygiene even extreme rush. i'm definitely looking forward next visit try infamous kharabath semiya upma.\\\"), ('rated 5.0', 'rated\\\\n among best breakfast places around basavanagudi. chutney simply perfect terms spice consistency goes well idli vada. kesari bath also good. keep place hygienic service systematic fast. dishes value money satisfying. keep visiting frequently.'), ('rated 5.0', 'rated\\\\n love place. hot idli chutney vada, avalakki something drool thought make hungry point day. best part filter coffee scrumptious breakfast. completes all.')]\"\n        ],\n        \"semantic_type\": \"\",\n        \"description\": \"\"\n      }\n    },\n    {\n      \"column\": \"cuisines\",\n      \"properties\": {\n        \"dtype\": \"string\",\n        \"num_unique_values\": 9,\n        \"samples\": [\n          \"Tea, Beverages, Fast Food\",\n          \"North Indian, Chinese, BBQ\",\n          \"North Indian, Street Food, Chinese\"\n        ],\n        \"semantic_type\": \"\",\n        \"description\": \"\"\n      }\n    }\n  ]\n}"
            }
          },
          "metadata": {},
          "execution_count": 26
        }
      ]
    },
    {
      "cell_type": "code",
      "source": [
        "def remove_rated(text):\n",
        "  text = re.sub(r'rated\\s*\\d+\\.?\\d*', '', str(text))\n",
        "  return text"
      ],
      "metadata": {
        "id": "RhiTSpOR9H2A"
      },
      "execution_count": 27,
      "outputs": []
    },
    {
      "cell_type": "code",
      "source": [
        "df1['reviews_list'] = df1['reviews_list'].apply(remove_rated)"
      ],
      "metadata": {
        "id": "ZSfTb6OJ9Nyz"
      },
      "execution_count": 28,
      "outputs": []
    },
    {
      "cell_type": "code",
      "source": [
        "df1[['reviews_list', 'cuisines']].sample(10)"
      ],
      "metadata": {
        "colab": {
          "base_uri": "https://localhost:8080/",
          "height": 363
        },
        "id": "Y-c2cjxS9RDu",
        "outputId": "c2ece40f-a446-4bd2-94d5-df3903538c39"
      },
      "execution_count": 29,
      "outputs": [
        {
          "output_type": "execute_result",
          "data": {
            "text/plain": [
              "                                           reviews_list  \\\n",
              "3263  [('', \"rated\\n worst restaurant, worst food,wo...   \n",
              "3418  [('', 'rated\\n ordered masala dosa vada combo ...   \n",
              "7501                                                 []   \n",
              "853   [('', \"rated\\n went late lunch saturday. self ...   \n",
              "716   [('', 'rated\\n got delicious paan banaras must...   \n",
              "212   [('', \"rated\\n \\n\\nhorrible. even kidding. ord...   \n",
              "1619  [('', \"rated\\n endings always happy, happy end...   \n",
              "3979  [('', \"rated\\n we've ordered double omelette b...   \n",
              "6457  [('', \"rated\\n gluttons take meats meals littl...   \n",
              "5506  [('', 'rated\\n cute place hangout . food taste...   \n",
              "\n",
              "                                     cuisines  \n",
              "3263   North Indian, Mughlai, Andhra, Biryani  \n",
              "3418      South Indian, North Indian, Chinese  \n",
              "7501           Biryani, North Indian, Chinese  \n",
              "853                 North Indian, Street Food  \n",
              "716                       Desserts, Ice Cream  \n",
              "212                Cafe, Italian, Continental  \n",
              "1619                Bakery, Desserts, Italian  \n",
              "3979                                Fast Food  \n",
              "6457  North Indian, Mughlai, Arabian, Chinese  \n",
              "5506                            Modern Indian  "
            ],
            "text/html": [
              "\n",
              "  <div id=\"df-c2a08b1b-f29f-4769-a05b-653567df101a\" class=\"colab-df-container\">\n",
              "    <div>\n",
              "<style scoped>\n",
              "    .dataframe tbody tr th:only-of-type {\n",
              "        vertical-align: middle;\n",
              "    }\n",
              "\n",
              "    .dataframe tbody tr th {\n",
              "        vertical-align: top;\n",
              "    }\n",
              "\n",
              "    .dataframe thead th {\n",
              "        text-align: right;\n",
              "    }\n",
              "</style>\n",
              "<table border=\"1\" class=\"dataframe\">\n",
              "  <thead>\n",
              "    <tr style=\"text-align: right;\">\n",
              "      <th></th>\n",
              "      <th>reviews_list</th>\n",
              "      <th>cuisines</th>\n",
              "    </tr>\n",
              "  </thead>\n",
              "  <tbody>\n",
              "    <tr>\n",
              "      <th>3263</th>\n",
              "      <td>[('', \"rated\\n worst restaurant, worst food,wo...</td>\n",
              "      <td>North Indian, Mughlai, Andhra, Biryani</td>\n",
              "    </tr>\n",
              "    <tr>\n",
              "      <th>3418</th>\n",
              "      <td>[('', 'rated\\n ordered masala dosa vada combo ...</td>\n",
              "      <td>South Indian, North Indian, Chinese</td>\n",
              "    </tr>\n",
              "    <tr>\n",
              "      <th>7501</th>\n",
              "      <td>[]</td>\n",
              "      <td>Biryani, North Indian, Chinese</td>\n",
              "    </tr>\n",
              "    <tr>\n",
              "      <th>853</th>\n",
              "      <td>[('', \"rated\\n went late lunch saturday. self ...</td>\n",
              "      <td>North Indian, Street Food</td>\n",
              "    </tr>\n",
              "    <tr>\n",
              "      <th>716</th>\n",
              "      <td>[('', 'rated\\n got delicious paan banaras must...</td>\n",
              "      <td>Desserts, Ice Cream</td>\n",
              "    </tr>\n",
              "    <tr>\n",
              "      <th>212</th>\n",
              "      <td>[('', \"rated\\n \\n\\nhorrible. even kidding. ord...</td>\n",
              "      <td>Cafe, Italian, Continental</td>\n",
              "    </tr>\n",
              "    <tr>\n",
              "      <th>1619</th>\n",
              "      <td>[('', \"rated\\n endings always happy, happy end...</td>\n",
              "      <td>Bakery, Desserts, Italian</td>\n",
              "    </tr>\n",
              "    <tr>\n",
              "      <th>3979</th>\n",
              "      <td>[('', \"rated\\n we've ordered double omelette b...</td>\n",
              "      <td>Fast Food</td>\n",
              "    </tr>\n",
              "    <tr>\n",
              "      <th>6457</th>\n",
              "      <td>[('', \"rated\\n gluttons take meats meals littl...</td>\n",
              "      <td>North Indian, Mughlai, Arabian, Chinese</td>\n",
              "    </tr>\n",
              "    <tr>\n",
              "      <th>5506</th>\n",
              "      <td>[('', 'rated\\n cute place hangout . food taste...</td>\n",
              "      <td>Modern Indian</td>\n",
              "    </tr>\n",
              "  </tbody>\n",
              "</table>\n",
              "</div>\n",
              "    <div class=\"colab-df-buttons\">\n",
              "\n",
              "  <div class=\"colab-df-container\">\n",
              "    <button class=\"colab-df-convert\" onclick=\"convertToInteractive('df-c2a08b1b-f29f-4769-a05b-653567df101a')\"\n",
              "            title=\"Convert this dataframe to an interactive table.\"\n",
              "            style=\"display:none;\">\n",
              "\n",
              "  <svg xmlns=\"http://www.w3.org/2000/svg\" height=\"24px\" viewBox=\"0 -960 960 960\">\n",
              "    <path d=\"M120-120v-720h720v720H120Zm60-500h600v-160H180v160Zm220 220h160v-160H400v160Zm0 220h160v-160H400v160ZM180-400h160v-160H180v160Zm440 0h160v-160H620v160ZM180-180h160v-160H180v160Zm440 0h160v-160H620v160Z\"/>\n",
              "  </svg>\n",
              "    </button>\n",
              "\n",
              "  <style>\n",
              "    .colab-df-container {\n",
              "      display:flex;\n",
              "      gap: 12px;\n",
              "    }\n",
              "\n",
              "    .colab-df-convert {\n",
              "      background-color: #E8F0FE;\n",
              "      border: none;\n",
              "      border-radius: 50%;\n",
              "      cursor: pointer;\n",
              "      display: none;\n",
              "      fill: #1967D2;\n",
              "      height: 32px;\n",
              "      padding: 0 0 0 0;\n",
              "      width: 32px;\n",
              "    }\n",
              "\n",
              "    .colab-df-convert:hover {\n",
              "      background-color: #E2EBFA;\n",
              "      box-shadow: 0px 1px 2px rgba(60, 64, 67, 0.3), 0px 1px 3px 1px rgba(60, 64, 67, 0.15);\n",
              "      fill: #174EA6;\n",
              "    }\n",
              "\n",
              "    .colab-df-buttons div {\n",
              "      margin-bottom: 4px;\n",
              "    }\n",
              "\n",
              "    [theme=dark] .colab-df-convert {\n",
              "      background-color: #3B4455;\n",
              "      fill: #D2E3FC;\n",
              "    }\n",
              "\n",
              "    [theme=dark] .colab-df-convert:hover {\n",
              "      background-color: #434B5C;\n",
              "      box-shadow: 0px 1px 3px 1px rgba(0, 0, 0, 0.15);\n",
              "      filter: drop-shadow(0px 1px 2px rgba(0, 0, 0, 0.3));\n",
              "      fill: #FFFFFF;\n",
              "    }\n",
              "  </style>\n",
              "\n",
              "    <script>\n",
              "      const buttonEl =\n",
              "        document.querySelector('#df-c2a08b1b-f29f-4769-a05b-653567df101a button.colab-df-convert');\n",
              "      buttonEl.style.display =\n",
              "        google.colab.kernel.accessAllowed ? 'block' : 'none';\n",
              "\n",
              "      async function convertToInteractive(key) {\n",
              "        const element = document.querySelector('#df-c2a08b1b-f29f-4769-a05b-653567df101a');\n",
              "        const dataTable =\n",
              "          await google.colab.kernel.invokeFunction('convertToInteractive',\n",
              "                                                    [key], {});\n",
              "        if (!dataTable) return;\n",
              "\n",
              "        const docLinkHtml = 'Like what you see? Visit the ' +\n",
              "          '<a target=\"_blank\" href=https://colab.research.google.com/notebooks/data_table.ipynb>data table notebook</a>'\n",
              "          + ' to learn more about interactive tables.';\n",
              "        element.innerHTML = '';\n",
              "        dataTable['output_type'] = 'display_data';\n",
              "        await google.colab.output.renderOutput(dataTable, element);\n",
              "        const docLink = document.createElement('div');\n",
              "        docLink.innerHTML = docLinkHtml;\n",
              "        element.appendChild(docLink);\n",
              "      }\n",
              "    </script>\n",
              "  </div>\n",
              "\n",
              "\n",
              "<div id=\"df-fa8b2cbd-7558-409d-802c-897fc47a19b9\">\n",
              "  <button class=\"colab-df-quickchart\" onclick=\"quickchart('df-fa8b2cbd-7558-409d-802c-897fc47a19b9')\"\n",
              "            title=\"Suggest charts\"\n",
              "            style=\"display:none;\">\n",
              "\n",
              "<svg xmlns=\"http://www.w3.org/2000/svg\" height=\"24px\"viewBox=\"0 0 24 24\"\n",
              "     width=\"24px\">\n",
              "    <g>\n",
              "        <path d=\"M19 3H5c-1.1 0-2 .9-2 2v14c0 1.1.9 2 2 2h14c1.1 0 2-.9 2-2V5c0-1.1-.9-2-2-2zM9 17H7v-7h2v7zm4 0h-2V7h2v10zm4 0h-2v-4h2v4z\"/>\n",
              "    </g>\n",
              "</svg>\n",
              "  </button>\n",
              "\n",
              "<style>\n",
              "  .colab-df-quickchart {\n",
              "      --bg-color: #E8F0FE;\n",
              "      --fill-color: #1967D2;\n",
              "      --hover-bg-color: #E2EBFA;\n",
              "      --hover-fill-color: #174EA6;\n",
              "      --disabled-fill-color: #AAA;\n",
              "      --disabled-bg-color: #DDD;\n",
              "  }\n",
              "\n",
              "  [theme=dark] .colab-df-quickchart {\n",
              "      --bg-color: #3B4455;\n",
              "      --fill-color: #D2E3FC;\n",
              "      --hover-bg-color: #434B5C;\n",
              "      --hover-fill-color: #FFFFFF;\n",
              "      --disabled-bg-color: #3B4455;\n",
              "      --disabled-fill-color: #666;\n",
              "  }\n",
              "\n",
              "  .colab-df-quickchart {\n",
              "    background-color: var(--bg-color);\n",
              "    border: none;\n",
              "    border-radius: 50%;\n",
              "    cursor: pointer;\n",
              "    display: none;\n",
              "    fill: var(--fill-color);\n",
              "    height: 32px;\n",
              "    padding: 0;\n",
              "    width: 32px;\n",
              "  }\n",
              "\n",
              "  .colab-df-quickchart:hover {\n",
              "    background-color: var(--hover-bg-color);\n",
              "    box-shadow: 0 1px 2px rgba(60, 64, 67, 0.3), 0 1px 3px 1px rgba(60, 64, 67, 0.15);\n",
              "    fill: var(--button-hover-fill-color);\n",
              "  }\n",
              "\n",
              "  .colab-df-quickchart-complete:disabled,\n",
              "  .colab-df-quickchart-complete:disabled:hover {\n",
              "    background-color: var(--disabled-bg-color);\n",
              "    fill: var(--disabled-fill-color);\n",
              "    box-shadow: none;\n",
              "  }\n",
              "\n",
              "  .colab-df-spinner {\n",
              "    border: 2px solid var(--fill-color);\n",
              "    border-color: transparent;\n",
              "    border-bottom-color: var(--fill-color);\n",
              "    animation:\n",
              "      spin 1s steps(1) infinite;\n",
              "  }\n",
              "\n",
              "  @keyframes spin {\n",
              "    0% {\n",
              "      border-color: transparent;\n",
              "      border-bottom-color: var(--fill-color);\n",
              "      border-left-color: var(--fill-color);\n",
              "    }\n",
              "    20% {\n",
              "      border-color: transparent;\n",
              "      border-left-color: var(--fill-color);\n",
              "      border-top-color: var(--fill-color);\n",
              "    }\n",
              "    30% {\n",
              "      border-color: transparent;\n",
              "      border-left-color: var(--fill-color);\n",
              "      border-top-color: var(--fill-color);\n",
              "      border-right-color: var(--fill-color);\n",
              "    }\n",
              "    40% {\n",
              "      border-color: transparent;\n",
              "      border-right-color: var(--fill-color);\n",
              "      border-top-color: var(--fill-color);\n",
              "    }\n",
              "    60% {\n",
              "      border-color: transparent;\n",
              "      border-right-color: var(--fill-color);\n",
              "    }\n",
              "    80% {\n",
              "      border-color: transparent;\n",
              "      border-right-color: var(--fill-color);\n",
              "      border-bottom-color: var(--fill-color);\n",
              "    }\n",
              "    90% {\n",
              "      border-color: transparent;\n",
              "      border-bottom-color: var(--fill-color);\n",
              "    }\n",
              "  }\n",
              "</style>\n",
              "\n",
              "  <script>\n",
              "    async function quickchart(key) {\n",
              "      const quickchartButtonEl =\n",
              "        document.querySelector('#' + key + ' button');\n",
              "      quickchartButtonEl.disabled = true;  // To prevent multiple clicks.\n",
              "      quickchartButtonEl.classList.add('colab-df-spinner');\n",
              "      try {\n",
              "        const charts = await google.colab.kernel.invokeFunction(\n",
              "            'suggestCharts', [key], {});\n",
              "      } catch (error) {\n",
              "        console.error('Error during call to suggestCharts:', error);\n",
              "      }\n",
              "      quickchartButtonEl.classList.remove('colab-df-spinner');\n",
              "      quickchartButtonEl.classList.add('colab-df-quickchart-complete');\n",
              "    }\n",
              "    (() => {\n",
              "      let quickchartButtonEl =\n",
              "        document.querySelector('#df-fa8b2cbd-7558-409d-802c-897fc47a19b9 button');\n",
              "      quickchartButtonEl.style.display =\n",
              "        google.colab.kernel.accessAllowed ? 'block' : 'none';\n",
              "    })();\n",
              "  </script>\n",
              "</div>\n",
              "\n",
              "    </div>\n",
              "  </div>\n"
            ],
            "application/vnd.google.colaboratory.intrinsic+json": {
              "type": "dataframe",
              "summary": "{\n  \"name\": \"df1[['reviews_list', 'cuisines']]\",\n  \"rows\": 10,\n  \"fields\": [\n    {\n      \"column\": \"reviews_list\",\n      \"properties\": {\n        \"dtype\": \"string\",\n        \"num_unique_values\": 10,\n        \"samples\": [\n          \"[('', \\\"rated\\\\n gluttons take meats meals little seriously,this place be.laham mandi (arabic meat rice) one insanely awesome dish look here.the rice mildly flavoured mutton tender aptly spiced.they also serve mutton stew beginning course complimentary equally delicious. dish like long long time.this small quaint restaurant hidden gem many bylanes queen's road. ended feast typical mediterranean dessert basbousa, sweet semolina cake (balanced sweetness). already planning next visit\\\"), ('', 'rated\\\\n located basement building small lane cunningham road, place treasure. serves typical muslim dishes, authentic bangalore loved every bit it. little pricey, think worth quality food.\\\\ntheir mutton softest come across restaurant basic. basic home like feel, food really good, portions lot.\\\\nwould definitely want go again!')]\",\n          \"[('', 'rated\\\\n ordered masala dosa vada combo zomato. delivery time packaging good considering fact charge anything packaging. available 49 bucks only. found deal quite economical. portions sambhar chutney good. thick watery liked outlet. everything tasted really good. overall quite good experience.\\\\n\\\\ni ordered place. time meal combo. ordered zomato. packaging ordinary. handled well. spillage issue there. food really good. mushroom manchurian tasted yum. chhole curry daal tasted good along curd rice rotis. rotis really big. halwa also good. overall good experience.'), ('', 'rated\\\\n good cafe. get variety snacks dinner items. however hygiene great here. taste food average.')]\",\n          \"[('', \\\"rated\\\\n \\\\n\\\\nhorrible. even kidding. ordered bbq chicken wings chef's special pizza. gave undercooked chicken wings sauce even bbq sauce. local sauce little spices it. pizza hardly toppings it. staffs irresponsible. tell give us plates cups waiting long time . also food delivery late. order now, get literally half hour late.\\\"), ('', \\\"rated\\\\n place common hookah, food menu good well. tried jalape\\u00e3\\u0083\\\\x83\\u00e3\\u0082\\\\x83\\u00e3\\u0083\\\\x82\\u00e3\\u0082\\\\x83\\u00e3\\u0083\\\\x83\\u00e3\\u0082\\\\x82\\u00e3\\u0083\\\\x82\\u00e3\\u0082\\u00e2\\u00b1o cheese balls, veg lasagne, chicken tikka pizza, fish fingers. pizza lasagne good, dishes pretty average. pocket friendly place nice ambience loud music. service good too. overall, nice place hanging friends.\\\"), ('', \\\"rated\\\\n ordered cafe can't say much ambience.. food however good. loved chicken lasagna spicy flavourful. also ordered fish fingers found okay. lacked fishy flavor tasted like normal fried chicken fingers. probably visit soon able give better detailed review. would give 3.5 restaurant gets benefit 4 5 point scale..\\\"), ('', 'rated\\\\n place nice...i love ambience...the manager sweet person...he saw well treated...we ordered hookah ice base manager gave special flavour good...we ordered mushroom manchurian amazing... ntg could match taste it...the crowd also great... would surely go place again..\\\\nambience-5/5\\\\nhookah-5/5\\\\nservice-5/5\\\\nfood-5/5'), ('', \\\"rated\\\\n new place hence interiors interesting still good place hangout !! food lil costly tastes good..\\\"), ('', 'rated\\\\n place located prime area banashankari opp bda complex 3rd floor . place good ambiance looks nice..place started recently menu seems defined really good . tried starters baby corn friends tried non vegetarian . liked milkshakes , really thick snicker milkshake especially really good . loved it..one must try here..the presentation really good..the thing serve hookah , open ventilators sometimes suffocated . , food , beverages everything really good . must try..\\\\n\\\\nplease watch videos youtube channel tummy fire , like , share subscribe .\\\\nplease follow page tummy fire facebook , instagram twitter .\\\\n\\\\nthank you'), ('', 'rated\\\\n visited cafe bunch friends evening.\\\\n\\\\nthe place located next banashankari bda complex easily locatable.\\\\nit amazing ambiance well ventilated tables.\\\\nthe view opens bda complex trees allowing cool breeze flow cafe area. best tracks playing background.\\\\n\\\\nthe food excellent served reasonable prices. \\\\nthe place also serves hookah, hookahs nice staff courteous customers making sure comfortable. \\\\noverall great place hang buddies.'), ('', \\\"rated\\\\n new place hence interiors interesting still good place hangout !! food lil costly tastes good..\\\"), ('', 'rated\\\\n place located prime area banashankari opp bda complex 3rd floor . place good ambiance looks nice..place started recently menu seems defined really good . tried starters baby corn friends tried non vegetarian . liked milkshakes , really thick snicker milkshake especially really good . loved it..one must try here..the presentation really good..the thing serve hookah , open ventilators sometimes suffocated . , food , beverages everything really good . must try..\\\\n\\\\nplease watch videos youtube channel tummy fire , like , share subscribe .\\\\nplease follow page tummy fire facebook , instagram twitter .\\\\n\\\\nthank you'), ('', 'rated\\\\n visited cafe bunch friends evening.\\\\n\\\\nthe place located next banashankari bda complex easily locatable.\\\\nit amazing ambiance well ventilated tables.\\\\nthe view opens bda complex trees allowing cool breeze flow cafe area. best tracks playing background.\\\\n\\\\nthe food excellent served reasonable prices. \\\\nthe place also serves hookah, hookahs nice staff courteous customers making sure comfortable. \\\\noverall great place hang buddies.')]\"\n        ],\n        \"semantic_type\": \"\",\n        \"description\": \"\"\n      }\n    },\n    {\n      \"column\": \"cuisines\",\n      \"properties\": {\n        \"dtype\": \"string\",\n        \"num_unique_values\": 10,\n        \"samples\": [\n          \"North Indian, Mughlai, Arabian, Chinese\",\n          \"South Indian, North Indian, Chinese\",\n          \"Cafe, Italian, Continental\"\n        ],\n        \"semantic_type\": \"\",\n        \"description\": \"\"\n      }\n    }\n  ]\n}"
            }
          },
          "metadata": {},
          "execution_count": 29
        }
      ]
    },
    {
      "cell_type": "code",
      "source": [
        "def remove_ratedn(text):\n",
        "  text = re.sub(r'ratedn', '', str(text))\n",
        "  return text"
      ],
      "metadata": {
        "id": "Gn1FYd3y9igi"
      },
      "execution_count": 30,
      "outputs": []
    },
    {
      "cell_type": "code",
      "source": [
        "df1['reviews_list'] = df1['reviews_list'].apply(remove_ratedn)"
      ],
      "metadata": {
        "id": "6ma8rTNo9lzb"
      },
      "execution_count": 31,
      "outputs": []
    },
    {
      "cell_type": "code",
      "source": [
        "df1[['reviews_list', 'cuisines']].sample(10)"
      ],
      "metadata": {
        "colab": {
          "base_uri": "https://localhost:8080/",
          "height": 363
        },
        "id": "9qt8vtjW9oiT",
        "outputId": "9e1c5bff-bf0b-407f-8794-6d7b50acc47a"
      },
      "execution_count": 32,
      "outputs": [
        {
          "output_type": "execute_result",
          "data": {
            "text/plain": [
              "                                           reviews_list  \\\n",
              "5150  [('', 'rated\\n ran place starving wanted nice ...   \n",
              "8242  [('', 'rated\\n small place located side lane i...   \n",
              "3143  [('', 'rated\\n ordered bellandur branch tons t...   \n",
              "3812  [('', 'rated\\n far \"the best\" samosas bangalor...   \n",
              "6112  [('', \"rated\\n ordered red velvet cake 12jan20...   \n",
              "3365  [('', 'rated\\n ordered egg biryani, gobi tikka...   \n",
              "7840  [('', 'rated\\n already gmt promenade, pondiche...   \n",
              "7652  [('', \"rated\\n bad can't give zero review.\\n\\n...   \n",
              "7581  [('', \"rated\\n went high hopes turned disappoi...   \n",
              "4467  [('', 'rated\\n yesterday..i tried mocktails wo...   \n",
              "\n",
              "                                               cuisines  \n",
              "5150   South Indian, North Indian, Chinese, Street Food  \n",
              "8242  Seafood, South Indian, North Indian, Mangalore...  \n",
              "3143                                     Biryani, Kebab  \n",
              "3812                                Mithai, Street Food  \n",
              "6112                                     Cafe, Desserts  \n",
              "3365                              South Indian, Biryani  \n",
              "7840                                Desserts, Ice Cream  \n",
              "7652                South Indian, North Indian, Chinese  \n",
              "7581                                     Cafe, Desserts  \n",
              "4467                                Desserts, Beverages  "
            ],
            "text/html": [
              "\n",
              "  <div id=\"df-515967e8-5409-4531-8b27-eab9ccaae6da\" class=\"colab-df-container\">\n",
              "    <div>\n",
              "<style scoped>\n",
              "    .dataframe tbody tr th:only-of-type {\n",
              "        vertical-align: middle;\n",
              "    }\n",
              "\n",
              "    .dataframe tbody tr th {\n",
              "        vertical-align: top;\n",
              "    }\n",
              "\n",
              "    .dataframe thead th {\n",
              "        text-align: right;\n",
              "    }\n",
              "</style>\n",
              "<table border=\"1\" class=\"dataframe\">\n",
              "  <thead>\n",
              "    <tr style=\"text-align: right;\">\n",
              "      <th></th>\n",
              "      <th>reviews_list</th>\n",
              "      <th>cuisines</th>\n",
              "    </tr>\n",
              "  </thead>\n",
              "  <tbody>\n",
              "    <tr>\n",
              "      <th>5150</th>\n",
              "      <td>[('', 'rated\\n ran place starving wanted nice ...</td>\n",
              "      <td>South Indian, North Indian, Chinese, Street Food</td>\n",
              "    </tr>\n",
              "    <tr>\n",
              "      <th>8242</th>\n",
              "      <td>[('', 'rated\\n small place located side lane i...</td>\n",
              "      <td>Seafood, South Indian, North Indian, Mangalore...</td>\n",
              "    </tr>\n",
              "    <tr>\n",
              "      <th>3143</th>\n",
              "      <td>[('', 'rated\\n ordered bellandur branch tons t...</td>\n",
              "      <td>Biryani, Kebab</td>\n",
              "    </tr>\n",
              "    <tr>\n",
              "      <th>3812</th>\n",
              "      <td>[('', 'rated\\n far \"the best\" samosas bangalor...</td>\n",
              "      <td>Mithai, Street Food</td>\n",
              "    </tr>\n",
              "    <tr>\n",
              "      <th>6112</th>\n",
              "      <td>[('', \"rated\\n ordered red velvet cake 12jan20...</td>\n",
              "      <td>Cafe, Desserts</td>\n",
              "    </tr>\n",
              "    <tr>\n",
              "      <th>3365</th>\n",
              "      <td>[('', 'rated\\n ordered egg biryani, gobi tikka...</td>\n",
              "      <td>South Indian, Biryani</td>\n",
              "    </tr>\n",
              "    <tr>\n",
              "      <th>7840</th>\n",
              "      <td>[('', 'rated\\n already gmt promenade, pondiche...</td>\n",
              "      <td>Desserts, Ice Cream</td>\n",
              "    </tr>\n",
              "    <tr>\n",
              "      <th>7652</th>\n",
              "      <td>[('', \"rated\\n bad can't give zero review.\\n\\n...</td>\n",
              "      <td>South Indian, North Indian, Chinese</td>\n",
              "    </tr>\n",
              "    <tr>\n",
              "      <th>7581</th>\n",
              "      <td>[('', \"rated\\n went high hopes turned disappoi...</td>\n",
              "      <td>Cafe, Desserts</td>\n",
              "    </tr>\n",
              "    <tr>\n",
              "      <th>4467</th>\n",
              "      <td>[('', 'rated\\n yesterday..i tried mocktails wo...</td>\n",
              "      <td>Desserts, Beverages</td>\n",
              "    </tr>\n",
              "  </tbody>\n",
              "</table>\n",
              "</div>\n",
              "    <div class=\"colab-df-buttons\">\n",
              "\n",
              "  <div class=\"colab-df-container\">\n",
              "    <button class=\"colab-df-convert\" onclick=\"convertToInteractive('df-515967e8-5409-4531-8b27-eab9ccaae6da')\"\n",
              "            title=\"Convert this dataframe to an interactive table.\"\n",
              "            style=\"display:none;\">\n",
              "\n",
              "  <svg xmlns=\"http://www.w3.org/2000/svg\" height=\"24px\" viewBox=\"0 -960 960 960\">\n",
              "    <path d=\"M120-120v-720h720v720H120Zm60-500h600v-160H180v160Zm220 220h160v-160H400v160Zm0 220h160v-160H400v160ZM180-400h160v-160H180v160Zm440 0h160v-160H620v160ZM180-180h160v-160H180v160Zm440 0h160v-160H620v160Z\"/>\n",
              "  </svg>\n",
              "    </button>\n",
              "\n",
              "  <style>\n",
              "    .colab-df-container {\n",
              "      display:flex;\n",
              "      gap: 12px;\n",
              "    }\n",
              "\n",
              "    .colab-df-convert {\n",
              "      background-color: #E8F0FE;\n",
              "      border: none;\n",
              "      border-radius: 50%;\n",
              "      cursor: pointer;\n",
              "      display: none;\n",
              "      fill: #1967D2;\n",
              "      height: 32px;\n",
              "      padding: 0 0 0 0;\n",
              "      width: 32px;\n",
              "    }\n",
              "\n",
              "    .colab-df-convert:hover {\n",
              "      background-color: #E2EBFA;\n",
              "      box-shadow: 0px 1px 2px rgba(60, 64, 67, 0.3), 0px 1px 3px 1px rgba(60, 64, 67, 0.15);\n",
              "      fill: #174EA6;\n",
              "    }\n",
              "\n",
              "    .colab-df-buttons div {\n",
              "      margin-bottom: 4px;\n",
              "    }\n",
              "\n",
              "    [theme=dark] .colab-df-convert {\n",
              "      background-color: #3B4455;\n",
              "      fill: #D2E3FC;\n",
              "    }\n",
              "\n",
              "    [theme=dark] .colab-df-convert:hover {\n",
              "      background-color: #434B5C;\n",
              "      box-shadow: 0px 1px 3px 1px rgba(0, 0, 0, 0.15);\n",
              "      filter: drop-shadow(0px 1px 2px rgba(0, 0, 0, 0.3));\n",
              "      fill: #FFFFFF;\n",
              "    }\n",
              "  </style>\n",
              "\n",
              "    <script>\n",
              "      const buttonEl =\n",
              "        document.querySelector('#df-515967e8-5409-4531-8b27-eab9ccaae6da button.colab-df-convert');\n",
              "      buttonEl.style.display =\n",
              "        google.colab.kernel.accessAllowed ? 'block' : 'none';\n",
              "\n",
              "      async function convertToInteractive(key) {\n",
              "        const element = document.querySelector('#df-515967e8-5409-4531-8b27-eab9ccaae6da');\n",
              "        const dataTable =\n",
              "          await google.colab.kernel.invokeFunction('convertToInteractive',\n",
              "                                                    [key], {});\n",
              "        if (!dataTable) return;\n",
              "\n",
              "        const docLinkHtml = 'Like what you see? Visit the ' +\n",
              "          '<a target=\"_blank\" href=https://colab.research.google.com/notebooks/data_table.ipynb>data table notebook</a>'\n",
              "          + ' to learn more about interactive tables.';\n",
              "        element.innerHTML = '';\n",
              "        dataTable['output_type'] = 'display_data';\n",
              "        await google.colab.output.renderOutput(dataTable, element);\n",
              "        const docLink = document.createElement('div');\n",
              "        docLink.innerHTML = docLinkHtml;\n",
              "        element.appendChild(docLink);\n",
              "      }\n",
              "    </script>\n",
              "  </div>\n",
              "\n",
              "\n",
              "<div id=\"df-e6ba9c5d-1dd0-4109-8788-60f89ced5ff8\">\n",
              "  <button class=\"colab-df-quickchart\" onclick=\"quickchart('df-e6ba9c5d-1dd0-4109-8788-60f89ced5ff8')\"\n",
              "            title=\"Suggest charts\"\n",
              "            style=\"display:none;\">\n",
              "\n",
              "<svg xmlns=\"http://www.w3.org/2000/svg\" height=\"24px\"viewBox=\"0 0 24 24\"\n",
              "     width=\"24px\">\n",
              "    <g>\n",
              "        <path d=\"M19 3H5c-1.1 0-2 .9-2 2v14c0 1.1.9 2 2 2h14c1.1 0 2-.9 2-2V5c0-1.1-.9-2-2-2zM9 17H7v-7h2v7zm4 0h-2V7h2v10zm4 0h-2v-4h2v4z\"/>\n",
              "    </g>\n",
              "</svg>\n",
              "  </button>\n",
              "\n",
              "<style>\n",
              "  .colab-df-quickchart {\n",
              "      --bg-color: #E8F0FE;\n",
              "      --fill-color: #1967D2;\n",
              "      --hover-bg-color: #E2EBFA;\n",
              "      --hover-fill-color: #174EA6;\n",
              "      --disabled-fill-color: #AAA;\n",
              "      --disabled-bg-color: #DDD;\n",
              "  }\n",
              "\n",
              "  [theme=dark] .colab-df-quickchart {\n",
              "      --bg-color: #3B4455;\n",
              "      --fill-color: #D2E3FC;\n",
              "      --hover-bg-color: #434B5C;\n",
              "      --hover-fill-color: #FFFFFF;\n",
              "      --disabled-bg-color: #3B4455;\n",
              "      --disabled-fill-color: #666;\n",
              "  }\n",
              "\n",
              "  .colab-df-quickchart {\n",
              "    background-color: var(--bg-color);\n",
              "    border: none;\n",
              "    border-radius: 50%;\n",
              "    cursor: pointer;\n",
              "    display: none;\n",
              "    fill: var(--fill-color);\n",
              "    height: 32px;\n",
              "    padding: 0;\n",
              "    width: 32px;\n",
              "  }\n",
              "\n",
              "  .colab-df-quickchart:hover {\n",
              "    background-color: var(--hover-bg-color);\n",
              "    box-shadow: 0 1px 2px rgba(60, 64, 67, 0.3), 0 1px 3px 1px rgba(60, 64, 67, 0.15);\n",
              "    fill: var(--button-hover-fill-color);\n",
              "  }\n",
              "\n",
              "  .colab-df-quickchart-complete:disabled,\n",
              "  .colab-df-quickchart-complete:disabled:hover {\n",
              "    background-color: var(--disabled-bg-color);\n",
              "    fill: var(--disabled-fill-color);\n",
              "    box-shadow: none;\n",
              "  }\n",
              "\n",
              "  .colab-df-spinner {\n",
              "    border: 2px solid var(--fill-color);\n",
              "    border-color: transparent;\n",
              "    border-bottom-color: var(--fill-color);\n",
              "    animation:\n",
              "      spin 1s steps(1) infinite;\n",
              "  }\n",
              "\n",
              "  @keyframes spin {\n",
              "    0% {\n",
              "      border-color: transparent;\n",
              "      border-bottom-color: var(--fill-color);\n",
              "      border-left-color: var(--fill-color);\n",
              "    }\n",
              "    20% {\n",
              "      border-color: transparent;\n",
              "      border-left-color: var(--fill-color);\n",
              "      border-top-color: var(--fill-color);\n",
              "    }\n",
              "    30% {\n",
              "      border-color: transparent;\n",
              "      border-left-color: var(--fill-color);\n",
              "      border-top-color: var(--fill-color);\n",
              "      border-right-color: var(--fill-color);\n",
              "    }\n",
              "    40% {\n",
              "      border-color: transparent;\n",
              "      border-right-color: var(--fill-color);\n",
              "      border-top-color: var(--fill-color);\n",
              "    }\n",
              "    60% {\n",
              "      border-color: transparent;\n",
              "      border-right-color: var(--fill-color);\n",
              "    }\n",
              "    80% {\n",
              "      border-color: transparent;\n",
              "      border-right-color: var(--fill-color);\n",
              "      border-bottom-color: var(--fill-color);\n",
              "    }\n",
              "    90% {\n",
              "      border-color: transparent;\n",
              "      border-bottom-color: var(--fill-color);\n",
              "    }\n",
              "  }\n",
              "</style>\n",
              "\n",
              "  <script>\n",
              "    async function quickchart(key) {\n",
              "      const quickchartButtonEl =\n",
              "        document.querySelector('#' + key + ' button');\n",
              "      quickchartButtonEl.disabled = true;  // To prevent multiple clicks.\n",
              "      quickchartButtonEl.classList.add('colab-df-spinner');\n",
              "      try {\n",
              "        const charts = await google.colab.kernel.invokeFunction(\n",
              "            'suggestCharts', [key], {});\n",
              "      } catch (error) {\n",
              "        console.error('Error during call to suggestCharts:', error);\n",
              "      }\n",
              "      quickchartButtonEl.classList.remove('colab-df-spinner');\n",
              "      quickchartButtonEl.classList.add('colab-df-quickchart-complete');\n",
              "    }\n",
              "    (() => {\n",
              "      let quickchartButtonEl =\n",
              "        document.querySelector('#df-e6ba9c5d-1dd0-4109-8788-60f89ced5ff8 button');\n",
              "      quickchartButtonEl.style.display =\n",
              "        google.colab.kernel.accessAllowed ? 'block' : 'none';\n",
              "    })();\n",
              "  </script>\n",
              "</div>\n",
              "\n",
              "    </div>\n",
              "  </div>\n"
            ],
            "application/vnd.google.colaboratory.intrinsic+json": {
              "type": "dataframe",
              "summary": "{\n  \"name\": \"df1[['reviews_list', 'cuisines']]\",\n  \"rows\": 10,\n  \"fields\": [\n    {\n      \"column\": \"reviews_list\",\n      \"properties\": {\n        \"dtype\": \"string\",\n        \"num_unique_values\": 10,\n        \"samples\": [\n          \"[('', \\\"rated\\\\n went high hopes turned disappointing affair.\\\\n\\\\nordered couple desserts average day least. cheese cake pretty stale hard. pista bread based also pretty average.\\\\n\\\\ndidn't eat anything.\\\\n\\\\ndoubt i'm paying place another visit. expensive another chance.\\\"), ('', 'rated\\\\n beautiful cafe amazing desert coffee.\\\\n\\\\nwent weekend, lot crowded got table 15min.\\\\n\\\\nordered coffee black tea served hot perfect taste. puffs also good.\\\\n\\\\nbest part desert???\\\\n\\\\ncraving good desert anytime, place go.\\\\n\\\\nonly minus point one assist table taking names reservations. search table own.'), ('', 'rated\\\\n awesome place hang frndz.\\\\n\\\\nambiance 5 5.\\\\n\\\\nfood 10 5.\\\\n\\\\nservice 6 5.\\\\n\\\\ndrinks 5 5.\\\\n\\\\ni love everything place.\\\\n\\\\nfrom unique design wall unique food.\\\\n\\\\nloved visit again....'), ('', 'rated\\\\n probably bangalore\\u00e3\\u0083\\\\x83\\u00e3\\u0082\\\\x83\\u00e3\\u0083\\\\x82\\u00e3\\u0082\\\\x82\\u00e3\\u0083\\\\x83\\u00e3\\u0082\\\\x82\\u00e3\\u0083\\\\x82\\u00e3\\u0082\\\\x92s finest bakeryyy?\\\\n\\\\nlavonne insane smell entered, chocolate marshmallows!\\\\n\\\\nno wonder belgian hot chocolate tasted superb! would say easily one best i\\u00e3\\u0083\\\\x83\\u00e3\\u0082\\\\x83\\u00e3\\u0083\\\\x82\\u00e3\\u0082\\\\x82\\u00e3\\u0083\\\\x83\\u00e3\\u0082\\\\x82\\u00e3\\u0083\\\\x82\\u00e3\\u0082\\\\x92ve tried till date. ?\\\\ni also tried chocolate croissant- great add meal. made fluffy crisp, croissant steal price.\\\\n\\\\ncould really try fancy stuff already damn full.\\\\n\\\\nwould love come back empty stomach well done quaint cafe like setup! cheers! ?'), ('', 'rated\\\\n ambience gives feel european cafe... hot chocolate die for.. pistachio danish chocolate hazelnut crossiants good.. awesome place go dessert cravings... highly recommended...'), ('', 'rated\\\\n place serves amazing pastry patty. time go sometjing new try. however service people serving quite curt helpful.'), ('', \\\"rated\\\\n oo la la lavonne wins toasts desserts like other. outside seating - cosseted palms like umbrellas, service smile handsome crowd, lavonne place be. highly recommended slow brunch afternoon tea. bring date here.\\\"), ('', \\\"rated\\\\n heard lavonne lots students come place learn art baking\\\\nit's amazing institute aspiring pattissertie chefs even someone wants baking hobby\\\\nthe cheerful cafe serves yummy puffs cakes coffee sinful deserts and\\\\ncookies x mas rum laden heavenly x mas cake santa cookies cup cakes etc\\\\nthe staff courteous helpful\\\\nyou could sit work read book catch girly gossip judy like did\\\\n?\\\"), ('', 'rated\\\\n dessert lover, going love place.\\\\ndesserts delicious also visually pleasing sit admire indulge.\\\\nthe spread something usually seen bakeries. try know taste.\\\\n\\\\nthe ambience also beautifully done.\\\\n\\\\n?tried three pastries. loved taste.\\\\nbill amount rs. 683/- (including tax).\\\\n\\\\n?food (pastries) - 5/5\\\\nambience - 5/5\\\\nservice - 4.5/5\\\\nhygiene - 5/5\\\\nstaff behaviour - 4.5/5'), ('', 'rated\\\\n fantastic. simply fantastic. far best french benedict town. boast wide range desserts snackers. dulce de leche cruffin, sausage puff eclair must ones. bacon egg cheese delicious too.\\\\n\\\\noverall, place must visit breakfast. late, started serving soft boiled egg french benedict (which blasphemy). waiter said people like way! kinda takes away essence dish. hence, star less that. otherwise, place must visit.'), ('', \\\"rated\\\\n food absolutely delicious looks scrumptious well.\\\\nthe ambience neat chic\\\\nthe staff polite.\\\\nbut two issues restaurant.\\\\nfirst , waiters took long time wait us. practically call every thing giving order getting water. nobody seemed bother us\\\\n\\\\nsecond , food extremely rich fatty. farther opposite side healthy. ordered hot chocolate ( one best hot chocolates ) chocolate heavy cream.\\\\n\\\\nthe pasta ordered melted cheese gravy kinds fats. tasted well healthy pasta.\\\\n\\\\ntheir cheesecake favorite ( guess would disappointment ordered , taste wise )\\\\n\\\\nso would go again? worked enough ?\\\"), ('', 'rated\\\\n place dream come true dessert lovers.\\\\nsuch exquisite flavours taste. delight see artistic form.\\\\n\\\\nno doubt one best dessert place hats off.\\\\nculinary art best.\\\\nfrom eclairs tarts everything perfect, kudos!')]\",\n          \"[('', 'rated\\\\n small place located side lane indiranagar. tried prawn ghee roast costed us 300 bucks kori rotti okayish.\\\\nthe prawns super fresh ghee roast spectacularly amazing. surely coming back try items menu.\\\\n\\\\nmy rating mainly ghee roast many places get right. also craving good mangalorean food looking deadly ambience, place surely makes happy.'), ('', 'rated\\\\n best place fish lovers!! get mangaloren fish food reasonable price good taste!!! love food!! ?? loss money paid!!')]\",\n          \"[('', 'rated\\\\n ordered egg biryani, gobi tikka gongura mutton biryani.\\\\n\\\\ngobi tikka - moist tasty marinade. little salty side.\\\\negg biryani - quite nice enough spice\\\\nmutton biryani - superbly spiced, one better biryanis. gripe mutton chewy. good quality meat.\\\\n\\\\nquantity generous.'), ('', 'rated\\\\n #update(2/5)\\\\nchicken biryani\\\\nvery greasy/oily, reeked coconut oil, 2big chicken pieces, ample amount rice, even upon mixing well, biryani lacked flavor, rice hard. food quality/taste nowhere near first order.\\\\nrestaurant let time better expectations based first order them. cannot recommend per current order.\\\\n(via zomato order)\\\\npacked plastic container. cold food.\\\\n\\\\n#first order(4/5)\\\\nred chilli chicken biryani\\\\ndifferent typical biryani. spice level minimal though red chilli name.\\\\ncurry good flavor pieces soft. rice like pulao.\\\\nample quantity. good dish choose. liked lot actually. pic doesnt justice actual food :)\\\\ndo give place try.\\\\n(via zomato order)\\\\npacked foil pack. food remained hot.'), ('', \\\"rated\\\\n #andhrafood\\\\nplace looks neat clean. ambience welcoming positive. staff really courteous much ready customise orders. ordered gongura mutton biryani chicken sixer. tasted yummy. especially mutton biryani's flavour aroma make crave more. chicken sixer tasted like authentic andhra style chilli's curry leaves over.\\\\nprices seems reasonable. pretty much sums nice decent food option. sure lot planning efforts put make place look simple classic.\\\\n\\\\nbottom-line : reach place looking typical andhra style food without burning pocket .\\\")]\"\n        ],\n        \"semantic_type\": \"\",\n        \"description\": \"\"\n      }\n    },\n    {\n      \"column\": \"cuisines\",\n      \"properties\": {\n        \"dtype\": \"string\",\n        \"num_unique_values\": 9,\n        \"samples\": [\n          \"South Indian, North Indian, Chinese\",\n          \"Seafood, South Indian, North Indian, Mangalorean, Chinese\",\n          \"South Indian, Biryani\"\n        ],\n        \"semantic_type\": \"\",\n        \"description\": \"\"\n      }\n    }\n  ]\n}"
            }
          },
          "metadata": {},
          "execution_count": 32
        }
      ]
    },
    {
      "cell_type": "code",
      "source": [
        "resturant_name = list(df1['name'].unique())\n",
        "def get_top_words(column, top_nu_of_words, nu_of_word):\n",
        "    vec = CountVectorizer(ngram_range= nu_of_word, stop_words='english')\n",
        "    bag_of_words = vec.fit_transform(column)\n",
        "    sum_words = bag_of_words.sum(axis=0)\n",
        "    words_freq = [(word, sum_words[0, idx]) for word, idx in vec.vocabulary_.items()]\n",
        "    words_freq =sorted(words_freq, key = lambda x: x[1], reverse=True)\n",
        "    return words_freq[:top_nu_of_words]"
      ],
      "metadata": {
        "id": "8QwT56S-9rEQ"
      },
      "execution_count": 33,
      "outputs": []
    },
    {
      "cell_type": "code",
      "source": [
        "df1=df1.drop(['address','rest_type','type','menu_item','votes'],axis=1)"
      ],
      "metadata": {
        "id": "C65O7bLC9uO_"
      },
      "execution_count": 34,
      "outputs": []
    },
    {
      "cell_type": "code",
      "source": [
        "df_percent=df1.sample(frac=0.5)"
      ],
      "metadata": {
        "id": "XKfq2elp9x-z"
      },
      "execution_count": 35,
      "outputs": []
    },
    {
      "cell_type": "code",
      "source": [
        "df_percent.shape"
      ],
      "metadata": {
        "colab": {
          "base_uri": "https://localhost:8080/"
        },
        "id": "BGmRZWjX91p4",
        "outputId": "eb4c7da2-ab4a-4808-e6f2-75c920a012c4"
      },
      "execution_count": 36,
      "outputs": [
        {
          "output_type": "execute_result",
          "data": {
            "text/plain": [
              "(4456, 13)"
            ]
          },
          "metadata": {},
          "execution_count": 36
        }
      ]
    },
    {
      "cell_type": "code",
      "source": [
        "from sklearn.feature_extraction.text import TfidfVectorizer\n",
        "from nltk.tokenize import word_tokenize"
      ],
      "metadata": {
        "id": "TDBDecZ-94VS"
      },
      "execution_count": 37,
      "outputs": []
    },
    {
      "cell_type": "code",
      "source": [
        "nltk.download('punkt')"
      ],
      "metadata": {
        "colab": {
          "base_uri": "https://localhost:8080/"
        },
        "id": "kAxhePqs-Bhz",
        "outputId": "506ffdce-ce89-4ff7-842f-855c3f994712"
      },
      "execution_count": 38,
      "outputs": [
        {
          "output_type": "stream",
          "name": "stderr",
          "text": [
            "[nltk_data] Downloading package punkt to /root/nltk_data...\n",
            "[nltk_data]   Unzipping tokenizers/punkt.zip.\n"
          ]
        },
        {
          "output_type": "execute_result",
          "data": {
            "text/plain": [
              "True"
            ]
          },
          "metadata": {},
          "execution_count": 38
        }
      ]
    },
    {
      "cell_type": "code",
      "source": [
        "df_percent.set_index('name', inplace=True)\n",
        "indices = pd.Series(df_percent.index)"
      ],
      "metadata": {
        "id": "zcFs1aXZ-FAp"
      },
      "execution_count": 39,
      "outputs": []
    },
    {
      "cell_type": "code",
      "source": [
        "from sklearn.feature_extraction.text import TfidfVectorizer\n",
        "from nltk.tokenize import word_tokenize\n",
        "from sklearn.metrics.pairwise import linear_kernel # Import linear_kernel\n",
        "\n",
        "tfidf = TfidfVectorizer(analyzer='word', ngram_range=(1, 2), min_df=1, stop_words='english')\n",
        "tfidf_matrix = tfidf.fit_transform(df_percent['reviews_list'])\n",
        "\n",
        "cosine_similarities = linear_kernel(tfidf_matrix, tfidf_matrix)"
      ],
      "metadata": {
        "id": "lT6s2Dwy-HZP"
      },
      "execution_count": 40,
      "outputs": []
    },
    {
      "cell_type": "code",
      "source": [
        "cosine_similarities"
      ],
      "metadata": {
        "colab": {
          "base_uri": "https://localhost:8080/"
        },
        "id": "uzmKw5E2-MIU",
        "outputId": "1b72c381-a73c-4e6f-9ce8-b39ee6f58c55"
      },
      "execution_count": 41,
      "outputs": [
        {
          "output_type": "execute_result",
          "data": {
            "text/plain": [
              "array([[1.        , 0.01709343, 0.01916516, ..., 0.00794466, 0.01833852,\n",
              "        0.04195638],\n",
              "       [0.01709343, 1.        , 0.01809875, ..., 0.00206873, 0.00866625,\n",
              "        0.02549179],\n",
              "       [0.01916516, 0.01809875, 1.        , ..., 0.0103881 , 0.01420838,\n",
              "        0.03848295],\n",
              "       ...,\n",
              "       [0.00794466, 0.00206873, 0.0103881 , ..., 1.        , 0.00857891,\n",
              "        0.01618621],\n",
              "       [0.01833852, 0.00866625, 0.01420838, ..., 0.00857891, 1.        ,\n",
              "        0.02544858],\n",
              "       [0.04195638, 0.02549179, 0.03848295, ..., 0.01618621, 0.02544858,\n",
              "        1.        ]])"
            ]
          },
          "metadata": {},
          "execution_count": 41
        }
      ]
    },
    {
      "cell_type": "code",
      "source": [
        "def recommend(name, cosine_similarities=cosine_similarities):\n",
        "    recommend_restaurant = []\n",
        "\n",
        "    idx = indices[indices == name].index[0]\n",
        "\n",
        "    score_series = pd.Series(cosine_similarities[idx]).sort_values(ascending=False)\n",
        "    top30_indexes = list(score_series.iloc[0:31].index)\n",
        "\n",
        "    for each in top30_indexes:\n",
        "        recommend_restaurant.append(list(df_percent.index)[each])\n",
        "\n",
        "    df_list = []\n",
        "\n",
        "    for each in recommend_restaurant:\n",
        "        # Access 'name' using .index and reset_index to make 'name' a column temporarily\n",
        "        df_temp = df_percent[['cuisines', 'Mean Rating', 'cost']][df_percent.index == each].sample().reset_index()\n",
        "        df_list.append(df_temp) # Use df_temp instead of directly accessing 'name'\n",
        "\n",
        "    df_new = pd.concat(df_list, ignore_index=True)\n",
        "\n",
        "    df_new = df_new.drop_duplicates(subset=['cuisines', 'Mean Rating', 'cost', 'name'], keep=False)  # Include 'name' in subset\n",
        "    df_new = df_new.sort_values(by='Mean Rating', ascending=False).head(10)\n",
        "\n",
        "    print('TOP %s RESTAURANTS LIKE %s WITH SIMILAR REVIEWS: ' % (str(len(df_new)), name))\n",
        "\n",
        "    return df_new"
      ],
      "metadata": {
        "id": "wMTb-hu7-VdJ"
      },
      "execution_count": 42,
      "outputs": []
    },
    {
      "cell_type": "code",
      "source": [
        "recommend('Jalsa')"
      ],
      "metadata": {
        "colab": {
          "base_uri": "https://localhost:8080/",
          "height": 380
        },
        "id": "E5XC1LVD-aX4",
        "outputId": "ba5ef395-8b52-4aeb-9b58-cf3e6c15a67e"
      },
      "execution_count": 44,
      "outputs": [
        {
          "output_type": "stream",
          "name": "stdout",
          "text": [
            "TOP 10 RESTAURANTS LIKE Jalsa WITH SIMILAR REVIEWS: \n"
          ]
        },
        {
          "output_type": "execute_result",
          "data": {
            "text/plain": [
              "                                name  \\\n",
              "5                             Stoner   \n",
              "6   Sixth Avenue Cafe And Patisserie   \n",
              "10                           The Rig   \n",
              "11                     Cafe @ Elanza   \n",
              "15                    Urban Tamaasha   \n",
              "17                        Biergarten   \n",
              "18                  Bombay Brasserie   \n",
              "23                        Safe House   \n",
              "25                              Hoot   \n",
              "26                 Xo Belgian Waffle   \n",
              "\n",
              "                                             cuisines  Mean Rating    cost  \n",
              "5   Ice Cream, Cafe, Beverages, Burger, Desserts, ...            0   550.0  \n",
              "6                             Cafe, Italian, Desserts            0   600.0  \n",
              "10                    Continental, Finger Food, Pizza            0  1500.0  \n",
              "11                        Chinese, North Indian, Cafe            0  1000.0  \n",
              "15                 North Indian, Chinese, Continental            0  1200.0  \n",
              "17         Continental, European, BBQ, Chinese, Asian            0  2400.0  \n",
              "18                                      Modern Indian            0  1800.0  \n",
              "23    Continental, North Indian, Chinese, Finger Food            0   900.0  \n",
              "25                 Continental, Italian, North Indian            0  1400.0  \n",
              "26                                Desserts, Beverages            0   400.0  "
            ],
            "text/html": [
              "\n",
              "  <div id=\"df-a95345ce-e018-420f-b06f-b80e296420e3\" class=\"colab-df-container\">\n",
              "    <div>\n",
              "<style scoped>\n",
              "    .dataframe tbody tr th:only-of-type {\n",
              "        vertical-align: middle;\n",
              "    }\n",
              "\n",
              "    .dataframe tbody tr th {\n",
              "        vertical-align: top;\n",
              "    }\n",
              "\n",
              "    .dataframe thead th {\n",
              "        text-align: right;\n",
              "    }\n",
              "</style>\n",
              "<table border=\"1\" class=\"dataframe\">\n",
              "  <thead>\n",
              "    <tr style=\"text-align: right;\">\n",
              "      <th></th>\n",
              "      <th>name</th>\n",
              "      <th>cuisines</th>\n",
              "      <th>Mean Rating</th>\n",
              "      <th>cost</th>\n",
              "    </tr>\n",
              "  </thead>\n",
              "  <tbody>\n",
              "    <tr>\n",
              "      <th>5</th>\n",
              "      <td>Stoner</td>\n",
              "      <td>Ice Cream, Cafe, Beverages, Burger, Desserts, ...</td>\n",
              "      <td>0</td>\n",
              "      <td>550.0</td>\n",
              "    </tr>\n",
              "    <tr>\n",
              "      <th>6</th>\n",
              "      <td>Sixth Avenue Cafe And Patisserie</td>\n",
              "      <td>Cafe, Italian, Desserts</td>\n",
              "      <td>0</td>\n",
              "      <td>600.0</td>\n",
              "    </tr>\n",
              "    <tr>\n",
              "      <th>10</th>\n",
              "      <td>The Rig</td>\n",
              "      <td>Continental, Finger Food, Pizza</td>\n",
              "      <td>0</td>\n",
              "      <td>1500.0</td>\n",
              "    </tr>\n",
              "    <tr>\n",
              "      <th>11</th>\n",
              "      <td>Cafe @ Elanza</td>\n",
              "      <td>Chinese, North Indian, Cafe</td>\n",
              "      <td>0</td>\n",
              "      <td>1000.0</td>\n",
              "    </tr>\n",
              "    <tr>\n",
              "      <th>15</th>\n",
              "      <td>Urban Tamaasha</td>\n",
              "      <td>North Indian, Chinese, Continental</td>\n",
              "      <td>0</td>\n",
              "      <td>1200.0</td>\n",
              "    </tr>\n",
              "    <tr>\n",
              "      <th>17</th>\n",
              "      <td>Biergarten</td>\n",
              "      <td>Continental, European, BBQ, Chinese, Asian</td>\n",
              "      <td>0</td>\n",
              "      <td>2400.0</td>\n",
              "    </tr>\n",
              "    <tr>\n",
              "      <th>18</th>\n",
              "      <td>Bombay Brasserie</td>\n",
              "      <td>Modern Indian</td>\n",
              "      <td>0</td>\n",
              "      <td>1800.0</td>\n",
              "    </tr>\n",
              "    <tr>\n",
              "      <th>23</th>\n",
              "      <td>Safe House</td>\n",
              "      <td>Continental, North Indian, Chinese, Finger Food</td>\n",
              "      <td>0</td>\n",
              "      <td>900.0</td>\n",
              "    </tr>\n",
              "    <tr>\n",
              "      <th>25</th>\n",
              "      <td>Hoot</td>\n",
              "      <td>Continental, Italian, North Indian</td>\n",
              "      <td>0</td>\n",
              "      <td>1400.0</td>\n",
              "    </tr>\n",
              "    <tr>\n",
              "      <th>26</th>\n",
              "      <td>Xo Belgian Waffle</td>\n",
              "      <td>Desserts, Beverages</td>\n",
              "      <td>0</td>\n",
              "      <td>400.0</td>\n",
              "    </tr>\n",
              "  </tbody>\n",
              "</table>\n",
              "</div>\n",
              "    <div class=\"colab-df-buttons\">\n",
              "\n",
              "  <div class=\"colab-df-container\">\n",
              "    <button class=\"colab-df-convert\" onclick=\"convertToInteractive('df-a95345ce-e018-420f-b06f-b80e296420e3')\"\n",
              "            title=\"Convert this dataframe to an interactive table.\"\n",
              "            style=\"display:none;\">\n",
              "\n",
              "  <svg xmlns=\"http://www.w3.org/2000/svg\" height=\"24px\" viewBox=\"0 -960 960 960\">\n",
              "    <path d=\"M120-120v-720h720v720H120Zm60-500h600v-160H180v160Zm220 220h160v-160H400v160Zm0 220h160v-160H400v160ZM180-400h160v-160H180v160Zm440 0h160v-160H620v160ZM180-180h160v-160H180v160Zm440 0h160v-160H620v160Z\"/>\n",
              "  </svg>\n",
              "    </button>\n",
              "\n",
              "  <style>\n",
              "    .colab-df-container {\n",
              "      display:flex;\n",
              "      gap: 12px;\n",
              "    }\n",
              "\n",
              "    .colab-df-convert {\n",
              "      background-color: #E8F0FE;\n",
              "      border: none;\n",
              "      border-radius: 50%;\n",
              "      cursor: pointer;\n",
              "      display: none;\n",
              "      fill: #1967D2;\n",
              "      height: 32px;\n",
              "      padding: 0 0 0 0;\n",
              "      width: 32px;\n",
              "    }\n",
              "\n",
              "    .colab-df-convert:hover {\n",
              "      background-color: #E2EBFA;\n",
              "      box-shadow: 0px 1px 2px rgba(60, 64, 67, 0.3), 0px 1px 3px 1px rgba(60, 64, 67, 0.15);\n",
              "      fill: #174EA6;\n",
              "    }\n",
              "\n",
              "    .colab-df-buttons div {\n",
              "      margin-bottom: 4px;\n",
              "    }\n",
              "\n",
              "    [theme=dark] .colab-df-convert {\n",
              "      background-color: #3B4455;\n",
              "      fill: #D2E3FC;\n",
              "    }\n",
              "\n",
              "    [theme=dark] .colab-df-convert:hover {\n",
              "      background-color: #434B5C;\n",
              "      box-shadow: 0px 1px 3px 1px rgba(0, 0, 0, 0.15);\n",
              "      filter: drop-shadow(0px 1px 2px rgba(0, 0, 0, 0.3));\n",
              "      fill: #FFFFFF;\n",
              "    }\n",
              "  </style>\n",
              "\n",
              "    <script>\n",
              "      const buttonEl =\n",
              "        document.querySelector('#df-a95345ce-e018-420f-b06f-b80e296420e3 button.colab-df-convert');\n",
              "      buttonEl.style.display =\n",
              "        google.colab.kernel.accessAllowed ? 'block' : 'none';\n",
              "\n",
              "      async function convertToInteractive(key) {\n",
              "        const element = document.querySelector('#df-a95345ce-e018-420f-b06f-b80e296420e3');\n",
              "        const dataTable =\n",
              "          await google.colab.kernel.invokeFunction('convertToInteractive',\n",
              "                                                    [key], {});\n",
              "        if (!dataTable) return;\n",
              "\n",
              "        const docLinkHtml = 'Like what you see? Visit the ' +\n",
              "          '<a target=\"_blank\" href=https://colab.research.google.com/notebooks/data_table.ipynb>data table notebook</a>'\n",
              "          + ' to learn more about interactive tables.';\n",
              "        element.innerHTML = '';\n",
              "        dataTable['output_type'] = 'display_data';\n",
              "        await google.colab.output.renderOutput(dataTable, element);\n",
              "        const docLink = document.createElement('div');\n",
              "        docLink.innerHTML = docLinkHtml;\n",
              "        element.appendChild(docLink);\n",
              "      }\n",
              "    </script>\n",
              "  </div>\n",
              "\n",
              "\n",
              "<div id=\"df-0ff646da-daf9-47be-9265-43b773fac968\">\n",
              "  <button class=\"colab-df-quickchart\" onclick=\"quickchart('df-0ff646da-daf9-47be-9265-43b773fac968')\"\n",
              "            title=\"Suggest charts\"\n",
              "            style=\"display:none;\">\n",
              "\n",
              "<svg xmlns=\"http://www.w3.org/2000/svg\" height=\"24px\"viewBox=\"0 0 24 24\"\n",
              "     width=\"24px\">\n",
              "    <g>\n",
              "        <path d=\"M19 3H5c-1.1 0-2 .9-2 2v14c0 1.1.9 2 2 2h14c1.1 0 2-.9 2-2V5c0-1.1-.9-2-2-2zM9 17H7v-7h2v7zm4 0h-2V7h2v10zm4 0h-2v-4h2v4z\"/>\n",
              "    </g>\n",
              "</svg>\n",
              "  </button>\n",
              "\n",
              "<style>\n",
              "  .colab-df-quickchart {\n",
              "      --bg-color: #E8F0FE;\n",
              "      --fill-color: #1967D2;\n",
              "      --hover-bg-color: #E2EBFA;\n",
              "      --hover-fill-color: #174EA6;\n",
              "      --disabled-fill-color: #AAA;\n",
              "      --disabled-bg-color: #DDD;\n",
              "  }\n",
              "\n",
              "  [theme=dark] .colab-df-quickchart {\n",
              "      --bg-color: #3B4455;\n",
              "      --fill-color: #D2E3FC;\n",
              "      --hover-bg-color: #434B5C;\n",
              "      --hover-fill-color: #FFFFFF;\n",
              "      --disabled-bg-color: #3B4455;\n",
              "      --disabled-fill-color: #666;\n",
              "  }\n",
              "\n",
              "  .colab-df-quickchart {\n",
              "    background-color: var(--bg-color);\n",
              "    border: none;\n",
              "    border-radius: 50%;\n",
              "    cursor: pointer;\n",
              "    display: none;\n",
              "    fill: var(--fill-color);\n",
              "    height: 32px;\n",
              "    padding: 0;\n",
              "    width: 32px;\n",
              "  }\n",
              "\n",
              "  .colab-df-quickchart:hover {\n",
              "    background-color: var(--hover-bg-color);\n",
              "    box-shadow: 0 1px 2px rgba(60, 64, 67, 0.3), 0 1px 3px 1px rgba(60, 64, 67, 0.15);\n",
              "    fill: var(--button-hover-fill-color);\n",
              "  }\n",
              "\n",
              "  .colab-df-quickchart-complete:disabled,\n",
              "  .colab-df-quickchart-complete:disabled:hover {\n",
              "    background-color: var(--disabled-bg-color);\n",
              "    fill: var(--disabled-fill-color);\n",
              "    box-shadow: none;\n",
              "  }\n",
              "\n",
              "  .colab-df-spinner {\n",
              "    border: 2px solid var(--fill-color);\n",
              "    border-color: transparent;\n",
              "    border-bottom-color: var(--fill-color);\n",
              "    animation:\n",
              "      spin 1s steps(1) infinite;\n",
              "  }\n",
              "\n",
              "  @keyframes spin {\n",
              "    0% {\n",
              "      border-color: transparent;\n",
              "      border-bottom-color: var(--fill-color);\n",
              "      border-left-color: var(--fill-color);\n",
              "    }\n",
              "    20% {\n",
              "      border-color: transparent;\n",
              "      border-left-color: var(--fill-color);\n",
              "      border-top-color: var(--fill-color);\n",
              "    }\n",
              "    30% {\n",
              "      border-color: transparent;\n",
              "      border-left-color: var(--fill-color);\n",
              "      border-top-color: var(--fill-color);\n",
              "      border-right-color: var(--fill-color);\n",
              "    }\n",
              "    40% {\n",
              "      border-color: transparent;\n",
              "      border-right-color: var(--fill-color);\n",
              "      border-top-color: var(--fill-color);\n",
              "    }\n",
              "    60% {\n",
              "      border-color: transparent;\n",
              "      border-right-color: var(--fill-color);\n",
              "    }\n",
              "    80% {\n",
              "      border-color: transparent;\n",
              "      border-right-color: var(--fill-color);\n",
              "      border-bottom-color: var(--fill-color);\n",
              "    }\n",
              "    90% {\n",
              "      border-color: transparent;\n",
              "      border-bottom-color: var(--fill-color);\n",
              "    }\n",
              "  }\n",
              "</style>\n",
              "\n",
              "  <script>\n",
              "    async function quickchart(key) {\n",
              "      const quickchartButtonEl =\n",
              "        document.querySelector('#' + key + ' button');\n",
              "      quickchartButtonEl.disabled = true;  // To prevent multiple clicks.\n",
              "      quickchartButtonEl.classList.add('colab-df-spinner');\n",
              "      try {\n",
              "        const charts = await google.colab.kernel.invokeFunction(\n",
              "            'suggestCharts', [key], {});\n",
              "      } catch (error) {\n",
              "        console.error('Error during call to suggestCharts:', error);\n",
              "      }\n",
              "      quickchartButtonEl.classList.remove('colab-df-spinner');\n",
              "      quickchartButtonEl.classList.add('colab-df-quickchart-complete');\n",
              "    }\n",
              "    (() => {\n",
              "      let quickchartButtonEl =\n",
              "        document.querySelector('#df-0ff646da-daf9-47be-9265-43b773fac968 button');\n",
              "      quickchartButtonEl.style.display =\n",
              "        google.colab.kernel.accessAllowed ? 'block' : 'none';\n",
              "    })();\n",
              "  </script>\n",
              "</div>\n",
              "\n",
              "    </div>\n",
              "  </div>\n"
            ],
            "application/vnd.google.colaboratory.intrinsic+json": {
              "type": "dataframe",
              "summary": "{\n  \"name\": \"recommend('Jalsa')\",\n  \"rows\": 10,\n  \"fields\": [\n    {\n      \"column\": \"name\",\n      \"properties\": {\n        \"dtype\": \"string\",\n        \"num_unique_values\": 10,\n        \"samples\": [\n          \"Hoot\",\n          \"Sixth Avenue Cafe And Patisserie\",\n          \"Biergarten\"\n        ],\n        \"semantic_type\": \"\",\n        \"description\": \"\"\n      }\n    },\n    {\n      \"column\": \"cuisines\",\n      \"properties\": {\n        \"dtype\": \"string\",\n        \"num_unique_values\": 10,\n        \"samples\": [\n          \"Continental, Italian, North Indian\",\n          \"Cafe, Italian, Desserts\",\n          \"Continental, European, BBQ, Chinese, Asian\"\n        ],\n        \"semantic_type\": \"\",\n        \"description\": \"\"\n      }\n    },\n    {\n      \"column\": \"Mean Rating\",\n      \"properties\": {\n        \"dtype\": \"number\",\n        \"std\": 0,\n        \"min\": 0,\n        \"max\": 0,\n        \"num_unique_values\": 1,\n        \"samples\": [\n          0\n        ],\n        \"semantic_type\": \"\",\n        \"description\": \"\"\n      }\n    },\n    {\n      \"column\": \"cost\",\n      \"properties\": {\n        \"dtype\": \"number\",\n        \"std\": 621.4901447328026,\n        \"min\": 400.0,\n        \"max\": 2400.0,\n        \"num_unique_values\": 10,\n        \"samples\": [\n          1400.0\n        ],\n        \"semantic_type\": \"\",\n        \"description\": \"\"\n      }\n    }\n  ]\n}"
            }
          },
          "metadata": {},
          "execution_count": 44
        }
      ]
    },
    {
      "cell_type": "code",
      "source": [],
      "metadata": {
        "id": "7WuA5OB5-daD"
      },
      "execution_count": null,
      "outputs": []
    }
  ]
}